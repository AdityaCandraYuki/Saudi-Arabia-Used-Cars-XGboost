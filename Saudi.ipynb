{
 "cells": [
  {
   "cell_type": "markdown",
   "id": "f75af62e",
   "metadata": {
    "id": "f75af62e"
   },
   "source": [
    "# **SAUDI USED CARS** "
   ]
  },
  {
   "attachments": {},
   "cell_type": "markdown",
   "id": "e1ca74b9",
   "metadata": {},
   "source": [
    "pingin tahu aja ada perubahan atau tidak"
   ]
  },
  {
   "cell_type": "markdown",
   "id": "7cecfb3f",
   "metadata": {
    "id": "7cecfb3f"
   },
   "source": [
    "# **CONTENTS**\n",
    "1. Business Problem Understanding\n",
    "2. Data understanding \n",
    "3. Data Preprocessing\n",
    "4. Modeling\n",
    "5. Conclusion"
   ]
  },
  {
   "cell_type": "code",
   "execution_count": 1,
   "id": "cbGv-P6vHhPk",
   "metadata": {
    "ExecuteTime": {
     "end_time": "2023-03-13T06:26:28.532428Z",
     "start_time": "2023-03-13T06:26:26.924573Z"
    },
    "executionInfo": {
     "elapsed": 428,
     "status": "ok",
     "timestamp": 1677327614045,
     "user": {
      "displayName": "Yuki",
      "userId": "17640100086142035958"
     },
     "user_tz": -420
    },
    "id": "cbGv-P6vHhPk"
   },
   "outputs": [],
   "source": [
    "import pandas as pd\n",
    "import numpy as np"
   ]
  },
  {
   "cell_type": "code",
   "execution_count": 2,
   "id": "6bfc7f9e",
   "metadata": {
    "ExecuteTime": {
     "end_time": "2023-03-13T06:26:33.540440Z",
     "start_time": "2023-03-13T06:26:28.532428Z"
    },
    "executionInfo": {
     "elapsed": 397,
     "status": "ok",
     "timestamp": 1677327637572,
     "user": {
      "displayName": "Yuki",
      "userId": "17640100086142035958"
     },
     "user_tz": -420
    },
    "id": "6bfc7f9e"
   },
   "outputs": [],
   "source": [
    "import pandas as pd\n",
    "import numpy as np\n",
    "\n",
    "import seaborn as sns\n",
    "import matplotlib.pyplot as plt\n",
    "\n",
    "# Traintest test split\n",
    "from sklearn.model_selection import train_test_split, cross_val_score\n",
    "\n",
    "# preprocessing\n",
    "import category_encoders as ce\n",
    "from sklearn.preprocessing import OneHotEncoder\n",
    "from sklearn.preprocessing import RobustScaler, StandardScaler, MinMaxScaler\n",
    "\n",
    "from sklearn.compose import ColumnTransformer\n",
    "from sklearn.pipeline import Pipeline\n",
    "\n",
    "# ML\n",
    "\n",
    "from sklearn.linear_model import LinearRegression, Lasso\n",
    "from sklearn.neighbors import KNeighborsRegressor\n",
    "from sklearn.tree import DecisionTreeRegressor\n",
    "from xgboost import XGBRegressor\n",
    "# evaluation metrics\n",
    "\n",
    "from sklearn.metrics import mean_absolute_error, mean_absolute_percentage_error, mean_squared_error\n",
    "\n",
    "# scoriinng\n",
    "from sklearn.metrics import accuracy_score, mean_squared_error\n",
    "import warnings\n",
    "warnings.filterwarnings('ignore')"
   ]
  },
  {
   "cell_type": "markdown",
   "id": "59bd18ac",
   "metadata": {
    "id": "59bd18ac"
   },
   "source": [
    "# **Business Problem Understanding**\n",
    "## Context\n",
    "Saudi Used Cars dataset contains 5624 records of used cars collected from syarah.com. Each row represents a used car. Other information regarding each car is the brand name, model, manufacturing year, origin, options, engine capacity, transmission type, mileage that the car covered, region price, and negotiable.\n",
    "\n",
    "`Syarah.com` is an online marketplace for buying and selling used cars in Saudi Arabia, with a large and diverse inventory of used cars from different regions, brands, models, and years. For both buyers and sellers on the platform, the key factor that determines the success of a transaction is the price of the used car. \n",
    "- Buyers want to pay a fair and reasonable price. \n",
    "- sellers want to maximize their profit by setting the right price."
   ]
  },
  {
   "cell_type": "markdown",
   "id": "16630bcf",
   "metadata": {
    "id": "16630bcf"
   },
   "source": [
    "## **Problem Statement**\n",
    "The problem statement for this context is to build a machine learning model that predicts the price of a used car on Syarah.com, and use this model to help sellers set the **optimal price** for their listings and increase their profit, while also helping buyers make informed decisions about the value of the cars they want to purchase."
   ]
  },
  {
   "cell_type": "markdown",
   "id": "e0449066",
   "metadata": {
    "id": "e0449066"
   },
   "source": [
    "## Goals\n",
    "Setting the right price for a used car can be a challenging task, as it depends on a wide range of factors such as the condition of the car, the mileage, the brand, the year, the region, the options, and the demand and supply in the market. \n",
    "\n",
    "This is where machine learning can help. By analyzing the historical data of used car sales on Syarah.com \n",
    "\n",
    "I want to build a machine learning model that predicts the price of a used car based on its features, and use this model to set the optimal price for a new used car listing. "
   ]
  },
  {
   "cell_type": "markdown",
   "id": "85b1889c",
   "metadata": {
    "id": "85b1889c"
   },
   "source": [
    "# **Data Understanding**\n",
    "\n",
    "**Attributes Information**\n",
    "\n",
    " **Attribute** | **Data Type** | **Description** |\n",
    "| --- | --- | --- |\n",
    "| Type | Object  | Type of a Car |\n",
    "| Region | Object | The region in which the used car was offered for sale |\n",
    "| Make | Object | The company name |\n",
    "| Gear_Type | Object | Gear type size of used car |\n",
    "| Origin | Object | Origin of used car |\n",
    "| Options | Object | Options or an accesories installed by the previous owner |\n",
    "| Year | Integer | Manufacturing year |\n",
    "| Engine_Size | Float | The engine size of used car |\n",
    "| Mileage | Integer | Mileage of used car |\n",
    "| Negotiable | Boolean | True if the price is 0, that means it is negotiable |\n",
    "| Price | Integer | Used car price in SAR |\n",
    "\n",
    "<br>\n"
   ]
  },
  {
   "cell_type": "code",
   "execution_count": 3,
   "id": "ef6ebe15",
   "metadata": {
    "ExecuteTime": {
     "end_time": "2023-03-13T06:26:33.652409Z",
     "start_time": "2023-03-13T06:26:33.540440Z"
    },
    "colab": {
     "base_uri": "https://localhost:8080/",
     "height": 145
    },
    "executionInfo": {
     "elapsed": 499,
     "status": "ok",
     "timestamp": 1677327647145,
     "user": {
      "displayName": "Yuki",
      "userId": "17640100086142035958"
     },
     "user_tz": -420
    },
    "id": "ef6ebe15",
    "outputId": "a29787d9-e431-4d6a-9053-1b7694d44abf"
   },
   "outputs": [
    {
     "data": {
      "text/html": [
       "<div>\n",
       "<style scoped>\n",
       "    .dataframe tbody tr th:only-of-type {\n",
       "        vertical-align: middle;\n",
       "    }\n",
       "\n",
       "    .dataframe tbody tr th {\n",
       "        vertical-align: top;\n",
       "    }\n",
       "\n",
       "    .dataframe thead th {\n",
       "        text-align: right;\n",
       "    }\n",
       "</style>\n",
       "<table border=\"1\" class=\"dataframe\">\n",
       "  <thead>\n",
       "    <tr style=\"text-align: right;\">\n",
       "      <th></th>\n",
       "      <th>Type</th>\n",
       "      <th>Region</th>\n",
       "      <th>Make</th>\n",
       "      <th>Gear_Type</th>\n",
       "      <th>Origin</th>\n",
       "      <th>Options</th>\n",
       "      <th>Year</th>\n",
       "      <th>Engine_Size</th>\n",
       "      <th>Mileage</th>\n",
       "      <th>Negotiable</th>\n",
       "      <th>Price</th>\n",
       "    </tr>\n",
       "  </thead>\n",
       "  <tbody>\n",
       "    <tr>\n",
       "      <th>0</th>\n",
       "      <td>Corolla</td>\n",
       "      <td>Abha</td>\n",
       "      <td>Toyota</td>\n",
       "      <td>Manual</td>\n",
       "      <td>Saudi</td>\n",
       "      <td>Standard</td>\n",
       "      <td>2013</td>\n",
       "      <td>1.4</td>\n",
       "      <td>421000</td>\n",
       "      <td>True</td>\n",
       "      <td>0</td>\n",
       "    </tr>\n",
       "  </tbody>\n",
       "</table>\n",
       "</div>"
      ],
      "text/plain": [
       "      Type Region    Make Gear_Type Origin   Options  Year  Engine_Size  \\\n",
       "0  Corolla   Abha  Toyota    Manual  Saudi  Standard  2013          1.4   \n",
       "\n",
       "   Mileage  Negotiable  Price  \n",
       "0   421000        True      0  "
      ]
     },
     "execution_count": 3,
     "metadata": {},
     "output_type": "execute_result"
    }
   ],
   "source": [
    "# Load dataset\n",
    "saudi = pd.read_csv('data_saudi_used_cars.csv')\n",
    "saudi.head(1)"
   ]
  },
  {
   "cell_type": "markdown",
   "id": "071f58a4",
   "metadata": {
    "id": "071f58a4"
   },
   "source": [
    "## **Exploratory Data Analysis**\n",
    "Exploratory Data Analysis (EDA) is a process of analyzing and summarizing the main characteristics of a dataset to gain insights and understanding of the data. The goal of EDA is to explore the data in order to identify patterns, trends, and anomalies, and to generate hypotheses that can be further tested using statistical and machine learning techniques.\n",
    "\n",
    "\n",
    "Visualizing the distribution of the target variable (price) and the input features (e.g., engine size, mileage, year, brand, etc.) to identify any trends or patterns in the data.\n",
    "Analyzing the correlation between the input features and the target variable to identify the most influential features that affect the price of a used car.\n",
    "Identifying and handling missing values, outliers, and other data quality issues that can affect the accuracy of the machine learning model.\n",
    "Analyzing the distribution of categorical variables, such as the make, gear type, and origin, to identify any trends or biases in the data.\n",
    "By performing EDA on the Saudi Arabia Used Cars dataset, we can gain insights such as:\n",
    "\n",
    "The most popular car brands and models in the used car market in Saudi Arabia.\n",
    "The most influential factors that affect the price of a used car, such as the engine size, mileage, and year.\n",
    "The distribution of the target variable (price) and the presence of any outliers or extreme values that need to be handled.\n",
    "The distribution of categorical variables and their impact on the target variable.\n",
    "These insights can help in selecting the most relevant features for the machine learning model, and in identifying any data quality issues that need to be addressed before training the model."
   ]
  },
  {
   "cell_type": "markdown",
   "id": "9303dec1",
   "metadata": {},
   "source": [
    "## Distribution plot of cars' price"
   ]
  },
  {
   "cell_type": "code",
   "execution_count": 4,
   "id": "efc81ead",
   "metadata": {
    "ExecuteTime": {
     "end_time": "2023-03-13T06:26:34.412361Z",
     "start_time": "2023-03-13T06:26:33.652409Z"
    },
    "colab": {
     "base_uri": "https://localhost:8080/",
     "height": 322
    },
    "executionInfo": {
     "elapsed": 39,
     "status": "ok",
     "timestamp": 1677327655221,
     "user": {
      "displayName": "Yuki",
      "userId": "17640100086142035958"
     },
     "user_tz": -420
    },
    "id": "efc81ead",
    "outputId": "9bd1b1fe-d941-4e20-ad68-609b41bbbb95",
    "scrolled": true
   },
   "outputs": [
    {
     "data": {
      "image/png": "[encoded data removed]",
      "text/plain": [
       "<Figure size 700x700 with 1 Axes>"
      ]
     },
     "metadata": {},
     "output_type": "display_data"
    }
   ],
   "source": [
    "# Distribution plot of 'price'\n",
    "plt.figure(figsize=(7, 7))\n",
    "sns.distplot(saudi['Price'])\n",
    "plt.title('Price Distribution Plot', size=15, weight='bold');"
   ]
  },
  {
   "cell_type": "markdown",
   "id": "0cd2cb06",
   "metadata": {
    "id": "0cd2cb06"
   },
   "source": [
    "According to the distribution plot of used cars price above. We can see the plot is 'right-skewed distribution', the skewness is positive for price variable.\n",
    "\n",
    "We can see also there is an extreme value of zero for price. \n",
    "\n",
    "Because we have found the 0 value, I will treat the 0 value after this"
   ]
  },
  {
   "cell_type": "code",
   "execution_count": 5,
   "id": "005099e6",
   "metadata": {
    "ExecuteTime": {
     "end_time": "2023-03-13T06:26:34.444454Z",
     "start_time": "2023-03-13T06:26:34.412361Z"
    },
    "id": "005099e6"
   },
   "outputs": [],
   "source": [
    "saudi = saudi[saudi['Price']>0]"
   ]
  },
  {
   "cell_type": "markdown",
   "id": "153e6753",
   "metadata": {},
   "source": [
    "we have treated the extreme value and we will see the Unique Values from all columns"
   ]
  },
  {
   "cell_type": "code",
   "execution_count": 6,
   "id": "09e98939",
   "metadata": {
    "ExecuteTime": {
     "end_time": "2023-03-13T06:26:34.516519Z",
     "start_time": "2023-03-13T06:26:34.444524Z"
    },
    "colab": {
     "base_uri": "https://localhost:8080/",
     "height": 1000
    },
    "executionInfo": {
     "elapsed": 517,
     "status": "ok",
     "timestamp": 1677327663948,
     "user": {
      "displayName": "Yuki",
      "userId": "17640100086142035958"
     },
     "user_tz": -420
    },
    "id": "09e98939",
    "outputId": "05b95ff7-22b0-432c-8455-aa311ae47bc8"
   },
   "outputs": [
    {
     "data": {
      "text/html": [
       "<div>\n",
       "<style scoped>\n",
       "    .dataframe tbody tr th:only-of-type {\n",
       "        vertical-align: middle;\n",
       "    }\n",
       "\n",
       "    .dataframe tbody tr th {\n",
       "        vertical-align: top;\n",
       "    }\n",
       "\n",
       "    .dataframe thead th {\n",
       "        text-align: right;\n",
       "    }\n",
       "</style>\n",
       "<table border=\"1\" class=\"dataframe\">\n",
       "  <thead>\n",
       "    <tr style=\"text-align: right;\">\n",
       "      <th></th>\n",
       "      <th>Column Name</th>\n",
       "      <th>Number of Unique</th>\n",
       "      <th>Unique Sample</th>\n",
       "    </tr>\n",
       "  </thead>\n",
       "  <tbody>\n",
       "    <tr>\n",
       "      <th>0</th>\n",
       "      <td>Type</td>\n",
       "      <td>320</td>\n",
       "      <td>[Yukon, Range Rover, Optima, CX3, Cayenne S, Sonata, Avalon, C300, Land Cruiser, LS, FJ, Tucson, Sunny, Pajero, Azera, Focus, 5, Spark, Pathfinder, Accent, ML, Corolla, Tahoe, A, Altima, Expedition, Senta fe, Liberty, X, Elantra, Land Cruiser Pickup, VTC, Malibu, The 5, Patrol, Grand Cherokee, Camry, SL, Previa, SEL, MKZ, Datsun, Hilux, GLC, Edge, 6, Innova, Navara, G80, Carnival, Suburban, Camaro, Accord, Taurus, Optra, Flex, S, Cerato, Furniture, Murano, Land Cruiser 70, 3, Pick up, Charger, H6, Hiace, Fusion, Aveo, CX9, Yaris, Sierra, Durango, CT-S, Sylvian Bus, ES, Navigator, Opirus, The 7, Creta, CS35, The 3, GLE, Sedona, Victoria, Prestige, CLA, Vanquish, Safrane, Cores, Cadenza, D'max, Silverado, Rio, Maxima, X-Trail, Cruze, C, Seven, Prado, Caprice, ...]</td>\n",
       "    </tr>\n",
       "    <tr>\n",
       "      <th>1</th>\n",
       "      <td>Region</td>\n",
       "      <td>27</td>\n",
       "      <td>[Riyadh, Hafar Al-Batin, Abha, Makkah, Dammam, Jeddah, Khobar, Al-Baha, Al-Ahsa, Jazan, Aseer, Al-Medina, Al-Namas, Taef, Tabouk, Arar, Qassim, Sabya, Al-Jouf, Yanbu, Najran, Hail, Jubail, Wadi Dawasir, Besha, Qurayyat, Sakaka]</td>\n",
       "    </tr>\n",
       "    <tr>\n",
       "      <th>2</th>\n",
       "      <td>Make</td>\n",
       "      <td>56</td>\n",
       "      <td>[GMC, Land Rover, Kia, Mazda, Porsche, Hyundai, Toyota, Chrysler, Lexus, Nissan, Mitsubishi, Ford, MG, Chevrolet, Mercedes, Jeep, BMW, Lincoln, Genesis, Honda, Zhengzhou, Dodge, HAVAL, Cadillac, Changan, Aston Martin, Renault, Suzuki, Mercury, INFINITI, Great Wall, Audi, Rolls-Royce, MINI, Other, BYD, Volkswagen, Victory Auto, Geely, Classic, Isuzu, Daihatsu, Maserati, Hummer, GAC, Lifan, Bentley, Chery, Jaguar, Peugeot, Foton, Škoda, Fiat, Iveco, FAW, Ferrari]</td>\n",
       "    </tr>\n",
       "    <tr>\n",
       "      <th>3</th>\n",
       "      <td>Gear_Type</td>\n",
       "      <td>2</td>\n",
       "      <td>[Automatic, Manual]</td>\n",
       "    </tr>\n",
       "    <tr>\n",
       "      <th>4</th>\n",
       "      <td>Origin</td>\n",
       "      <td>4</td>\n",
       "      <td>[Saudi, Gulf Arabic, Other, Unknown]</td>\n",
       "    </tr>\n",
       "    <tr>\n",
       "      <th>5</th>\n",
       "      <td>Options</td>\n",
       "      <td>3</td>\n",
       "      <td>[Full, Semi Full, Standard]</td>\n",
       "    </tr>\n",
       "    <tr>\n",
       "      <th>6</th>\n",
       "      <td>Year</td>\n",
       "      <td>41</td>\n",
       "      <td>[2014, 2015, 2019, 2012, 2016, 2013, 2011, 2008, 2020, 2018, 2021, 2017, 2002, 2010, 2001, 1986, 1999, 2007, 2009, 1995, 2006, 2003, 2005, 1993, 1983, 2000, 1997, 2004, 1990, 1998, 1980, 1994, 1988, 1991, 1996, 1964, 1989, 1978, 1985, 1992, 1963]</td>\n",
       "    </tr>\n",
       "    <tr>\n",
       "      <th>7</th>\n",
       "      <td>Engine_Size</td>\n",
       "      <td>65</td>\n",
       "      <td>[8.0, 5.0, 2.4, 2.0, 4.8, 3.5, 5.7, 4.6, 4.0, 1.4, 3.0, 1.6, 1.5, 3.3, 6.2, 2.5, 5.3, 5.4, 3.7, 3.6, 9.0, 4.7, 2.7, 4.5, 3.8, 1.0, 5.5, 2.6, 1.8, 1.2, 6.9, 3.2, 6.0, 2.2, 5.6, 1.1, 2.9, 4.1, 1.7, 1.3, 4.4, 3.4, 8.8, 6.1, 1.9, 7.5, 4.3, 2.8, 5.8, 8.5, 2.3, 7.2, 7.0, 6.3, 4.2, 5.2, 6.4, 2.1, 3.1, 6.6, 6.7, 3.9, 8.7, 4.9, 6.8]</td>\n",
       "    </tr>\n",
       "    <tr>\n",
       "      <th>8</th>\n",
       "      <td>Mileage</td>\n",
       "      <td>1346</td>\n",
       "      <td>[80000, 140000, 220000, 25000, 189000, 155, 110864, 200, 79000, 299000, 17000, 71000, 85000, 290, 74715, 284000, 98000, 3400, 108, 550000, 204000, 139240, 296, 105920, 10000, 18500, 292000, 270000, 350000, 247000, 92000, 27000, 307801, 62000, 38000, 208000, 11000, 245000, 150000, 81000, 156000, 500000, 228000, 24000, 98100, 182000, 210800, 88000, 82808, 4000, 70000, 115, 91440, 45000, 50100, 35449, 180, 66200, 89000, 349000, 105000, 130000, 212000, 139740, 256, 73000, 866, 216, 148000, 188257, 117000, 211257, 2000000, 135000, 290000, 43632, 530500, 153000, 300, 126000, 180000, 108000, 122000, 53000, 181000, 13800, 9000, 168000, 86500, 192692, 48000, 38920, 32000, 219000, 102000, 3000, 334000, 34000, 229000, 151000, ...]</td>\n",
       "    </tr>\n",
       "    <tr>\n",
       "      <th>9</th>\n",
       "      <td>Negotiable</td>\n",
       "      <td>1</td>\n",
       "      <td>[False]</td>\n",
       "    </tr>\n",
       "    <tr>\n",
       "      <th>10</th>\n",
       "      <td>Price</td>\n",
       "      <td>466</td>\n",
       "      <td>[120000, 260000, 42000, 58000, 85000, 48000, 81500, 55000, 145000, 38000, 140000, 200000, 65000, 7000, 76000, 32000, 23000, 20000, 10000, 45000, 30000, 149000, 179000, 22000, 49500, 52000, 25000, 72000, 1010, 105000, 99000, 57000, 110000, 15000, 265000, 56500, 5500, 90000, 1200, 71500, 29000, 62000, 141000, 230000, 225000, 60000, 93000, 68000, 50000, 69000, 121500, 51000, 109000, 47000, 88000, 142000, 53000, 39000, 78500, 5000, 35000, 45500, 33000, 125000, 9500, 63000, 80000, 44000, 54000, 37000, 79000, 70000, 81000, 68500, 33500, 14500, 11000, 118000, 36500, 75000, 61500, 44500, 13000, 107000, 102000, 99500, 122000, 14000, 21000, 77000, 100000, 59500, 119000, 38500, 165000, 330000, 72910, 410000, 400000, 35500, ...]</td>\n",
       "    </tr>\n",
       "  </tbody>\n",
       "</table>\n",
       "</div>"
      ],
      "text/plain": [
       "    Column Name  Number of Unique  \\\n",
       "0   Type         320                \n",
       "1   Region       27                 \n",
       "2   Make         56                 \n",
       "3   Gear_Type    2                  \n",
       "4   Origin       4                  \n",
       "5   Options      3                  \n",
       "6   Year         41                 \n",
       "7   Engine_Size  65                 \n",
       "8   Mileage      1346               \n",
       "9   Negotiable   1                  \n",
       "10  Price        466                \n",
       "\n",
       "                                                                                                                                                                                                                                                                                                                                                                                                                                                                                                                                                                                                                                                                                                                                                                                           Unique Sample  \n",
       "0   [Yukon, Range Rover, Optima, CX3, Cayenne S, Sonata, Avalon, C300, Land Cruiser, LS, FJ, Tucson, Sunny, Pajero, Azera, Focus, 5, Spark, Pathfinder, Accent, ML, Corolla, Tahoe, A, Altima, Expedition, Senta fe, Liberty, X, Elantra, Land Cruiser Pickup, VTC, Malibu, The 5, Patrol, Grand Cherokee, Camry, SL, Previa, SEL, MKZ, Datsun, Hilux, GLC, Edge, 6, Innova, Navara, G80, Carnival, Suburban, Camaro, Accord, Taurus, Optra, Flex, S, Cerato, Furniture, Murano, Land Cruiser 70, 3, Pick up, Charger, H6, Hiace, Fusion, Aveo, CX9, Yaris, Sierra, Durango, CT-S, Sylvian Bus, ES, Navigator, Opirus, The 7, Creta, CS35, The 3, GLE, Sedona, Victoria, Prestige, CLA, Vanquish, Safrane, Cores, Cadenza, D'max, Silverado, Rio, Maxima, X-Trail, Cruze, C, Seven, Prado, Caprice, ...]  \n",
       "1   [Riyadh, Hafar Al-Batin, Abha, Makkah, Dammam, Jeddah, Khobar, Al-Baha, Al-Ahsa, Jazan, Aseer, Al-Medina, Al-Namas, Taef, Tabouk, Arar, Qassim, Sabya, Al-Jouf, Yanbu, Najran, Hail, Jubail, Wadi Dawasir, Besha, Qurayyat, Sakaka]                                                                                                                                                                                                                                                                                                                                                                                                                                                                                                                                                                   \n",
       "2   [GMC, Land Rover, Kia, Mazda, Porsche, Hyundai, Toyota, Chrysler, Lexus, Nissan, Mitsubishi, Ford, MG, Chevrolet, Mercedes, Jeep, BMW, Lincoln, Genesis, Honda, Zhengzhou, Dodge, HAVAL, Cadillac, Changan, Aston Martin, Renault, Suzuki, Mercury, INFINITI, Great Wall, Audi, Rolls-Royce, MINI, Other, BYD, Volkswagen, Victory Auto, Geely, Classic, Isuzu, Daihatsu, Maserati, Hummer, GAC, Lifan, Bentley, Chery, Jaguar, Peugeot, Foton, Škoda, Fiat, Iveco, FAW, Ferrari]                                                                                                                                                                                                                                                                                                                     \n",
       "3   [Automatic, Manual]                                                                                                                                                                                                                                                                                                                                                                                                                                                                                                                                                                                                                                                                                                                                                                                   \n",
       "4   [Saudi, Gulf Arabic, Other, Unknown]                                                                                                                                                                                                                                                                                                                                                                                                                                                                                                                                                                                                                                                                                                                                                                  \n",
       "5   [Full, Semi Full, Standard]                                                                                                                                                                                                                                                                                                                                                                                                                                                                                                                                                                                                                                                                                                                                                                           \n",
       "6   [2014, 2015, 2019, 2012, 2016, 2013, 2011, 2008, 2020, 2018, 2021, 2017, 2002, 2010, 2001, 1986, 1999, 2007, 2009, 1995, 2006, 2003, 2005, 1993, 1983, 2000, 1997, 2004, 1990, 1998, 1980, 1994, 1988, 1991, 1996, 1964, 1989, 1978, 1985, 1992, 1963]                                                                                                                                                                                                                                                                                                                                                                                                                                                                                                                                                \n",
       "7   [8.0, 5.0, 2.4, 2.0, 4.8, 3.5, 5.7, 4.6, 4.0, 1.4, 3.0, 1.6, 1.5, 3.3, 6.2, 2.5, 5.3, 5.4, 3.7, 3.6, 9.0, 4.7, 2.7, 4.5, 3.8, 1.0, 5.5, 2.6, 1.8, 1.2, 6.9, 3.2, 6.0, 2.2, 5.6, 1.1, 2.9, 4.1, 1.7, 1.3, 4.4, 3.4, 8.8, 6.1, 1.9, 7.5, 4.3, 2.8, 5.8, 8.5, 2.3, 7.2, 7.0, 6.3, 4.2, 5.2, 6.4, 2.1, 3.1, 6.6, 6.7, 3.9, 8.7, 4.9, 6.8]                                                                                                                                                                                                                                                                                                                                                                                                                                                                 \n",
       "8   [80000, 140000, 220000, 25000, 189000, 155, 110864, 200, 79000, 299000, 17000, 71000, 85000, 290, 74715, 284000, 98000, 3400, 108, 550000, 204000, 139240, 296, 105920, 10000, 18500, 292000, 270000, 350000, 247000, 92000, 27000, 307801, 62000, 38000, 208000, 11000, 245000, 150000, 81000, 156000, 500000, 228000, 24000, 98100, 182000, 210800, 88000, 82808, 4000, 70000, 115, 91440, 45000, 50100, 35449, 180, 66200, 89000, 349000, 105000, 130000, 212000, 139740, 256, 73000, 866, 216, 148000, 188257, 117000, 211257, 2000000, 135000, 290000, 43632, 530500, 153000, 300, 126000, 180000, 108000, 122000, 53000, 181000, 13800, 9000, 168000, 86500, 192692, 48000, 38920, 32000, 219000, 102000, 3000, 334000, 34000, 229000, 151000, ...]                                             \n",
       "9   [False]                                                                                                                                                                                                                                                                                                                                                                                                                                                                                                                                                                                                                                                                                                                                                                                               \n",
       "10  [120000, 260000, 42000, 58000, 85000, 48000, 81500, 55000, 145000, 38000, 140000, 200000, 65000, 7000, 76000, 32000, 23000, 20000, 10000, 45000, 30000, 149000, 179000, 22000, 49500, 52000, 25000, 72000, 1010, 105000, 99000, 57000, 110000, 15000, 265000, 56500, 5500, 90000, 1200, 71500, 29000, 62000, 141000, 230000, 225000, 60000, 93000, 68000, 50000, 69000, 121500, 51000, 109000, 47000, 88000, 142000, 53000, 39000, 78500, 5000, 35000, 45500, 33000, 125000, 9500, 63000, 80000, 44000, 54000, 37000, 79000, 70000, 81000, 68500, 33500, 14500, 11000, 118000, 36500, 75000, 61500, 44500, 13000, 107000, 102000, 99500, 122000, 14000, 21000, 77000, 100000, 59500, 119000, 38500, 165000, 330000, 72910, 410000, 400000, 35500, ...]                                                "
      ]
     },
     "execution_count": 6,
     "metadata": {},
     "output_type": "execute_result"
    }
   ],
   "source": [
    "pd.set_option('display.max_colwidth', -1)\n",
    "# data uni di tiap kolom\n",
    "listItem = []\n",
    "for col in saudi.columns :\n",
    "    listItem.append( [col, saudi[col].nunique(), saudi[col].unique()])\n",
    "\n",
    "tabel1Desc = pd.DataFrame(columns=['Column Name', 'Number of Unique', 'Unique Sample'],\n",
    "                     data=listItem)\n",
    "tabel1Desc"
   ]
  },
  {
   "cell_type": "markdown",
   "id": "50122486",
   "metadata": {
    "id": "50122486"
   },
   "source": [
    "from the info functions, we can seperate the variables by its types.\n",
    "- **Numerical** = Year, Engine_Size, Mileage, Price\n",
    "- **Categorical** = Type, Region, Make, Gear_Type, Origin, Options, Negotiable\n",
    "\n",
    "this information will help me in the feature engineering section\n"
   ]
  },
  {
   "cell_type": "markdown",
   "id": "eb32f5d3",
   "metadata": {
    "id": "eb32f5d3"
   },
   "source": [
    "## 'price' correlation to its feature"
   ]
  },
  {
   "cell_type": "code",
   "execution_count": 7,
   "id": "5a822c16",
   "metadata": {
    "ExecuteTime": {
     "end_time": "2023-03-13T06:26:34.932483Z",
     "start_time": "2023-03-13T06:26:34.524519Z"
    }
   },
   "outputs": [
    {
     "data": {
      "text/plain": [
       "<AxesSubplot:>"
      ]
     },
     "execution_count": 7,
     "metadata": {},
     "output_type": "execute_result"
    },
    {
     "data": {
      "image/png": "[encoded data removed]",
      "text/plain": [
       "<Figure size 640x480 with 2 Axes>"
      ]
     },
     "metadata": {},
     "output_type": "display_data"
    }
   ],
   "source": [
    "corr_matrix = saudi.corr('spearman')\n",
    "sns.heatmap(corr_matrix, annot= True)"
   ]
  },
  {
   "cell_type": "markdown",
   "id": "f8a1050e",
   "metadata": {},
   "source": [
    "Year and Engine_size may have a multicolinearity but we still need the features. "
   ]
  },
  {
   "cell_type": "markdown",
   "id": "c7156605",
   "metadata": {
    "id": "c7156605"
   },
   "source": [
    "from this correlation heatmap, we can see that:\n",
    "\n",
    "* `Price` = medium correlation to `year` and `Engine_size`, low correlation to `Mileage` "
   ]
  },
  {
   "cell_type": "markdown",
   "id": "611c9434",
   "metadata": {
    "id": "611c9434"
   },
   "source": [
    "## finding the top 10 Companies of used Cars & Top 10 Types of used Cars"
   ]
  },
  {
   "cell_type": "code",
   "execution_count": 8,
   "id": "b7373369",
   "metadata": {
    "ExecuteTime": {
     "end_time": "2023-03-13T06:26:35.476431Z",
     "start_time": "2023-03-13T06:26:34.932483Z"
    },
    "colab": {
     "base_uri": "https://localhost:8080/",
     "height": 168
    },
    "executionInfo": {
     "elapsed": 783,
     "status": "ok",
     "timestamp": 1677327675432,
     "user": {
      "displayName": "Yuki",
      "userId": "17640100086142035958"
     },
     "user_tz": -420
    },
    "id": "b7373369",
    "outputId": "251bb7ff-f153-4dd9-b6a6-1b9168cda232"
   },
   "outputs": [
    {
     "data": {
      "image/png": "[encoded data removed]",
      "text/plain": [
       "<Figure size 1200x600 with 2 Axes>"
      ]
     },
     "metadata": {},
     "output_type": "display_data"
    }
   ],
   "source": [
    "# Create a subplot with two countplots\n",
    "fig, axes = plt.subplots(nrows=1, ncols=2, figsize=(12, 6))\n",
    "\n",
    "# Plot the top 10 companies of used cars\n",
    "sns.countplot(y=\"Make\", data=saudi, order=saudi[\"Make\"].value_counts().iloc[:10].index, ax=axes[0])\n",
    "axes[0].set_title(\"Top 10 Companies of Used Cars\")\n",
    "\n",
    "# Plot the top 10 types of used cars\n",
    "sns.countplot(y=\"Type\", data=saudi, order=saudi[\"Type\"].value_counts().iloc[:10].index, ax=axes[1])\n",
    "axes[1].set_title(\"Top 10 Types of Used Cars\")\n",
    "\n",
    "# Adjust the layout of the subplot and show the plot\n",
    "fig.tight_layout()\n",
    "plt.show()"
   ]
  },
  {
   "cell_type": "code",
   "execution_count": 9,
   "id": "bab3db31",
   "metadata": {
    "ExecuteTime": {
     "end_time": "2023-03-13T06:26:35.772428Z",
     "start_time": "2023-03-13T06:26:35.484432Z"
    }
   },
   "outputs": [
    {
     "data": {
      "image/png": "[encoded data removed]",
      "text/plain": [
       "<Figure size 800x600 with 1 Axes>"
      ]
     },
     "metadata": {},
     "output_type": "display_data"
    }
   ],
   "source": [
    "sns.set_style('whitegrid')\n",
    "plt.figure(figsize=(8, 6))\n",
    "ax = sns.countplot(x='Gear_Type', data=saudi)\n",
    "ax.set_title('Count of Used Cars by Gear Type')\n",
    "ax.set_xlabel('Gear Type')\n",
    "ax.set_ylabel('Count')\n",
    "plt.show()\n"
   ]
  },
  {
   "cell_type": "markdown",
   "id": "75a5885c",
   "metadata": {},
   "source": [
    "from the countplot above, the used car in saudi Arabia is dominated by an autamic gear type"
   ]
  },
  {
   "cell_type": "code",
   "execution_count": 10,
   "id": "3cdfed6f",
   "metadata": {
    "ExecuteTime": {
     "end_time": "2023-03-13T06:26:36.012420Z",
     "start_time": "2023-03-13T06:26:35.772428Z"
    }
   },
   "outputs": [
    {
     "data": {
      "image/png": "[encoded data removed]",
      "text/plain": [
       "<Figure size 800x600 with 1 Axes>"
      ]
     },
     "metadata": {},
     "output_type": "display_data"
    }
   ],
   "source": [
    "sns.set_style('whitegrid')\n",
    "plt.figure(figsize=(8, 6))\n",
    "ax = sns.countplot(x='Options', data=saudi)\n",
    "ax.set_title('Count of modification/standard Used Cars')\n",
    "ax.set_xlabel('Options')\n",
    "ax.set_ylabel('Count')\n",
    "plt.show()\n"
   ]
  },
  {
   "cell_type": "markdown",
   "id": "b7f4f20e",
   "metadata": {
    "id": "b7f4f20e"
   },
   "source": [
    "The option feature tells us about the accesories of the cars such as soundsystem, leather seats,etc.\n",
    "\n",
    "we can see from the countplot above semifull is the least popular."
   ]
  },
  {
   "cell_type": "markdown",
   "id": "a96a5d44",
   "metadata": {
    "id": "a96a5d44"
   },
   "source": [
    "# **Data Preprocessing**\n",
    "At this stage, we will perform data cleaning, where the cleaned data will be used for further analysis. Some things that need to be done include:\n",
    "\n",
    "Dropping irrelevant features that do not contribute to the problem at hand.\n",
    "\n",
    "Treating missing values, either by dropping the feature if it is not needed or by imputing with the most reasonable value based on the case.\n",
    "\n",
    "For data preprocessing and feature engineering, we will use a duplicated dataframe from the previously used dataframe."
   ]
  },
  {
   "cell_type": "markdown",
   "id": "9892e264",
   "metadata": {},
   "source": [
    "## Missing value heatmap"
   ]
  },
  {
   "cell_type": "code",
   "execution_count": 11,
   "id": "05a9d42b",
   "metadata": {
    "ExecuteTime": {
     "end_time": "2023-03-13T06:26:36.636334Z",
     "start_time": "2023-03-13T06:26:36.012420Z"
    }
   },
   "outputs": [
    {
     "data": {
      "image/png": "[encoded data removed]",
      "text/plain": [
       "<Figure size 640x480 with 1 Axes>"
      ]
     },
     "metadata": {},
     "output_type": "display_data"
    }
   ],
   "source": [
    "# Missing value heatmap\n",
    "sns.heatmap(saudi.isnull(), cbar=False);"
   ]
  },
  {
   "cell_type": "markdown",
   "id": "a52c82b5",
   "metadata": {},
   "source": [
    "as we can see, we have no missing values"
   ]
  },
  {
   "cell_type": "markdown",
   "id": "eae713c7",
   "metadata": {
    "ExecuteTime": {
     "end_time": "2023-03-12T12:24:38.877626Z",
     "start_time": "2023-03-12T12:24:38.867655Z"
    }
   },
   "source": [
    "## duplcated data check"
   ]
  },
  {
   "cell_type": "code",
   "execution_count": 12,
   "id": "f1bc7f85",
   "metadata": {
    "ExecuteTime": {
     "end_time": "2023-03-13T06:26:36.676322Z",
     "start_time": "2023-03-13T06:26:36.636334Z"
    }
   },
   "outputs": [
    {
     "data": {
      "text/plain": [
       "3"
      ]
     },
     "execution_count": 12,
     "metadata": {},
     "output_type": "execute_result"
    }
   ],
   "source": [
    "saudi.duplicated().sum()"
   ]
  },
  {
   "cell_type": "code",
   "execution_count": 13,
   "id": "5be057f1",
   "metadata": {
    "ExecuteTime": {
     "end_time": "2023-03-13T06:26:36.724317Z",
     "start_time": "2023-03-13T06:26:36.676322Z"
    },
    "id": "5be057f1",
    "outputId": "8498d522-28ec-411b-8296-fdd0e70fb390",
    "scrolled": true
   },
   "outputs": [
    {
     "name": "stdout",
     "output_type": "stream",
     "text": [
      "<class 'pandas.core.frame.DataFrame'>\n",
      "Int64Index: 3827 entries, 1 to 5622\n",
      "Data columns (total 11 columns):\n",
      " #   Column       Non-Null Count  Dtype  \n",
      "---  ------       --------------  -----  \n",
      " 0   Type         3827 non-null   object \n",
      " 1   Region       3827 non-null   object \n",
      " 2   Make         3827 non-null   object \n",
      " 3   Gear_Type    3827 non-null   object \n",
      " 4   Origin       3827 non-null   object \n",
      " 5   Options      3827 non-null   object \n",
      " 6   Year         3827 non-null   int64  \n",
      " 7   Engine_Size  3827 non-null   float64\n",
      " 8   Mileage      3827 non-null   int64  \n",
      " 9   Negotiable   3827 non-null   bool   \n",
      " 10  Price        3827 non-null   int64  \n",
      "dtypes: bool(1), float64(1), int64(3), object(6)\n",
      "memory usage: 332.6+ KB\n"
     ]
    }
   ],
   "source": [
    "saudi.info()"
   ]
  },
  {
   "cell_type": "markdown",
   "id": "203df7b9",
   "metadata": {},
   "source": [
    "## Price Anomaly "
   ]
  },
  {
   "cell_type": "markdown",
   "id": "4zHw_KUuhVc5",
   "metadata": {
    "id": "4zHw_KUuhVc5"
   },
   "source": [
    "We need to see the minimum price from the real event. \n",
    "If we found the right value price from the real dataset was scraped at https://syarah.com/en/cars/used-cars\n",
    "too bad, we cannot see what is the lowest used cars price. \n",
    "\n",
    "using another website such as https://ksa.yallamotor.com/used-cars/under-5000-sar?sort=price_desc\n",
    "the lowest price is 5000 SAR, so I will delete a price under 5000 SAR"
   ]
  },
  {
   "cell_type": "code",
   "execution_count": 14,
   "id": "29849031",
   "metadata": {
    "ExecuteTime": {
     "end_time": "2023-03-13T06:26:36.788313Z",
     "start_time": "2023-03-13T06:26:36.724317Z"
    }
   },
   "outputs": [
    {
     "data": {
      "text/html": [
       "<div>\n",
       "<style scoped>\n",
       "    .dataframe tbody tr th:only-of-type {\n",
       "        vertical-align: middle;\n",
       "    }\n",
       "\n",
       "    .dataframe tbody tr th {\n",
       "        vertical-align: top;\n",
       "    }\n",
       "\n",
       "    .dataframe thead th {\n",
       "        text-align: right;\n",
       "    }\n",
       "</style>\n",
       "<table border=\"1\" class=\"dataframe\">\n",
       "  <thead>\n",
       "    <tr style=\"text-align: right;\">\n",
       "      <th></th>\n",
       "      <th>Type</th>\n",
       "      <th>Region</th>\n",
       "      <th>Make</th>\n",
       "      <th>Gear_Type</th>\n",
       "      <th>Origin</th>\n",
       "      <th>Options</th>\n",
       "      <th>Year</th>\n",
       "      <th>Engine_Size</th>\n",
       "      <th>Mileage</th>\n",
       "      <th>Negotiable</th>\n",
       "      <th>Price</th>\n",
       "    </tr>\n",
       "  </thead>\n",
       "  <tbody>\n",
       "    <tr>\n",
       "      <th>46</th>\n",
       "      <td>Elantra</td>\n",
       "      <td>Abha</td>\n",
       "      <td>Hyundai</td>\n",
       "      <td>Automatic</td>\n",
       "      <td>Saudi</td>\n",
       "      <td>Semi Full</td>\n",
       "      <td>2020</td>\n",
       "      <td>2.0</td>\n",
       "      <td>27000</td>\n",
       "      <td>False</td>\n",
       "      <td>1010</td>\n",
       "    </tr>\n",
       "    <tr>\n",
       "      <th>65</th>\n",
       "      <td>Malibu</td>\n",
       "      <td>Arar</td>\n",
       "      <td>Chevrolet</td>\n",
       "      <td>Automatic</td>\n",
       "      <td>Saudi</td>\n",
       "      <td>Standard</td>\n",
       "      <td>2021</td>\n",
       "      <td>1.5</td>\n",
       "      <td>24000</td>\n",
       "      <td>False</td>\n",
       "      <td>1200</td>\n",
       "    </tr>\n",
       "    <tr>\n",
       "      <th>304</th>\n",
       "      <td>Azera</td>\n",
       "      <td>Tabouk</td>\n",
       "      <td>Hyundai</td>\n",
       "      <td>Automatic</td>\n",
       "      <td>Saudi</td>\n",
       "      <td>Standard</td>\n",
       "      <td>2018</td>\n",
       "      <td>3.5</td>\n",
       "      <td>147</td>\n",
       "      <td>False</td>\n",
       "      <td>2049</td>\n",
       "    </tr>\n",
       "    <tr>\n",
       "      <th>356</th>\n",
       "      <td>Wingle</td>\n",
       "      <td>Jeddah</td>\n",
       "      <td>Great Wall</td>\n",
       "      <td>Manual</td>\n",
       "      <td>Saudi</td>\n",
       "      <td>Full</td>\n",
       "      <td>2020</td>\n",
       "      <td>2.0</td>\n",
       "      <td>73000</td>\n",
       "      <td>False</td>\n",
       "      <td>1197</td>\n",
       "    </tr>\n",
       "    <tr>\n",
       "      <th>396</th>\n",
       "      <td>K5</td>\n",
       "      <td>Aseer</td>\n",
       "      <td>Kia</td>\n",
       "      <td>Automatic</td>\n",
       "      <td>Saudi</td>\n",
       "      <td>Standard</td>\n",
       "      <td>2021</td>\n",
       "      <td>2.5</td>\n",
       "      <td>30000</td>\n",
       "      <td>False</td>\n",
       "      <td>1414</td>\n",
       "    </tr>\n",
       "    <tr>\n",
       "      <th>...</th>\n",
       "      <td>...</td>\n",
       "      <td>...</td>\n",
       "      <td>...</td>\n",
       "      <td>...</td>\n",
       "      <td>...</td>\n",
       "      <td>...</td>\n",
       "      <td>...</td>\n",
       "      <td>...</td>\n",
       "      <td>...</td>\n",
       "      <td>...</td>\n",
       "      <td>...</td>\n",
       "    </tr>\n",
       "    <tr>\n",
       "      <th>5430</th>\n",
       "      <td>Passat</td>\n",
       "      <td>Hail</td>\n",
       "      <td>Volkswagen</td>\n",
       "      <td>Automatic</td>\n",
       "      <td>Saudi</td>\n",
       "      <td>Semi Full</td>\n",
       "      <td>2018</td>\n",
       "      <td>2.5</td>\n",
       "      <td>59000</td>\n",
       "      <td>False</td>\n",
       "      <td>2402</td>\n",
       "    </tr>\n",
       "    <tr>\n",
       "      <th>5521</th>\n",
       "      <td>Suburban</td>\n",
       "      <td>Al-Medina</td>\n",
       "      <td>Chevrolet</td>\n",
       "      <td>Automatic</td>\n",
       "      <td>Other</td>\n",
       "      <td>Semi Full</td>\n",
       "      <td>1997</td>\n",
       "      <td>6.0</td>\n",
       "      <td>292764</td>\n",
       "      <td>False</td>\n",
       "      <td>4000</td>\n",
       "    </tr>\n",
       "    <tr>\n",
       "      <th>5523</th>\n",
       "      <td>Tucson</td>\n",
       "      <td>Makkah</td>\n",
       "      <td>Hyundai</td>\n",
       "      <td>Automatic</td>\n",
       "      <td>Saudi</td>\n",
       "      <td>Semi Full</td>\n",
       "      <td>2020</td>\n",
       "      <td>2.0</td>\n",
       "      <td>58000</td>\n",
       "      <td>False</td>\n",
       "      <td>1313</td>\n",
       "    </tr>\n",
       "    <tr>\n",
       "      <th>5547</th>\n",
       "      <td>Optima</td>\n",
       "      <td>Qassim</td>\n",
       "      <td>Kia</td>\n",
       "      <td>Automatic</td>\n",
       "      <td>Saudi</td>\n",
       "      <td>Standard</td>\n",
       "      <td>2019</td>\n",
       "      <td>2.0</td>\n",
       "      <td>91000</td>\n",
       "      <td>False</td>\n",
       "      <td>1440</td>\n",
       "    </tr>\n",
       "    <tr>\n",
       "      <th>5609</th>\n",
       "      <td>Land Cruiser 70</td>\n",
       "      <td>Taef</td>\n",
       "      <td>Toyota</td>\n",
       "      <td>Manual</td>\n",
       "      <td>Saudi</td>\n",
       "      <td>Full</td>\n",
       "      <td>2020</td>\n",
       "      <td>4.0</td>\n",
       "      <td>45000</td>\n",
       "      <td>False</td>\n",
       "      <td>2450</td>\n",
       "    </tr>\n",
       "  </tbody>\n",
       "</table>\n",
       "<p>68 rows × 11 columns</p>\n",
       "</div>"
      ],
      "text/plain": [
       "                 Type     Region        Make  Gear_Type Origin    Options  \\\n",
       "46    Elantra          Abha       Hyundai     Automatic  Saudi  Semi Full   \n",
       "65    Malibu           Arar       Chevrolet   Automatic  Saudi  Standard    \n",
       "304   Azera            Tabouk     Hyundai     Automatic  Saudi  Standard    \n",
       "356   Wingle           Jeddah     Great Wall  Manual     Saudi  Full        \n",
       "396   K5               Aseer      Kia         Automatic  Saudi  Standard    \n",
       "...   ..                 ...      ...               ...    ...       ...    \n",
       "5430  Passat           Hail       Volkswagen  Automatic  Saudi  Semi Full   \n",
       "5521  Suburban         Al-Medina  Chevrolet   Automatic  Other  Semi Full   \n",
       "5523  Tucson           Makkah     Hyundai     Automatic  Saudi  Semi Full   \n",
       "5547  Optima           Qassim     Kia         Automatic  Saudi  Standard    \n",
       "5609  Land Cruiser 70  Taef       Toyota      Manual     Saudi  Full        \n",
       "\n",
       "      Year  Engine_Size  Mileage  Negotiable  Price  \n",
       "46    2020  2.0          27000    False       1010   \n",
       "65    2021  1.5          24000    False       1200   \n",
       "304   2018  3.5          147      False       2049   \n",
       "356   2020  2.0          73000    False       1197   \n",
       "396   2021  2.5          30000    False       1414   \n",
       "...    ...  ...            ...      ...        ...   \n",
       "5430  2018  2.5          59000    False       2402   \n",
       "5521  1997  6.0          292764   False       4000   \n",
       "5523  2020  2.0          58000    False       1313   \n",
       "5547  2019  2.0          91000    False       1440   \n",
       "5609  2020  4.0          45000    False       2450   \n",
       "\n",
       "[68 rows x 11 columns]"
      ]
     },
     "execution_count": 14,
     "metadata": {},
     "output_type": "execute_result"
    }
   ],
   "source": [
    "saudi.query(\" Price < 5000  \")"
   ]
  },
  {
   "cell_type": "code",
   "execution_count": 15,
   "id": "9ca480d6",
   "metadata": {
    "ExecuteTime": {
     "end_time": "2023-03-13T06:26:36.804313Z",
     "start_time": "2023-03-13T06:26:36.788313Z"
    },
    "id": "9ca480d6",
    "outputId": "cbb425c7-f6f5-4bc8-a9a1-bfed7947347a"
   },
   "outputs": [],
   "source": [
    "saudi = saudi[saudi['Price'] >= 5000]"
   ]
  },
  {
   "cell_type": "code",
   "execution_count": 16,
   "id": "7d5bb043",
   "metadata": {
    "ExecuteTime": {
     "end_time": "2023-03-13T06:26:36.820308Z",
     "start_time": "2023-03-13T06:26:36.804313Z"
    },
    "id": "7d5bb043"
   },
   "outputs": [],
   "source": [
    "saudi = saudi[saudi['Price']> 0]"
   ]
  },
  {
   "cell_type": "code",
   "execution_count": 17,
   "id": "492f3e0b",
   "metadata": {
    "ExecuteTime": {
     "end_time": "2023-03-13T06:26:37.668231Z",
     "start_time": "2023-03-13T06:26:36.820308Z"
    }
   },
   "outputs": [
    {
     "data": {
      "text/plain": [
       "<seaborn.axisgrid.FacetGrid at 0x23f9ade2520>"
      ]
     },
     "execution_count": 17,
     "metadata": {},
     "output_type": "execute_result"
    },
    {
     "data": {
      "image/png": "[encoded data removed]",
      "text/plain": [
       "<Figure size 500x500 with 1 Axes>"
      ]
     },
     "metadata": {},
     "output_type": "display_data"
    }
   ],
   "source": [
    "sns.displot(data=saudi, x='Price')"
   ]
  },
  {
   "cell_type": "code",
   "execution_count": 18,
   "id": "43210695",
   "metadata": {
    "ExecuteTime": {
     "end_time": "2023-03-13T06:26:37.700228Z",
     "start_time": "2023-03-13T06:26:37.668231Z"
    },
    "id": "43210695",
    "outputId": "ca97c0ea-0d2d-4104-c96e-315dfda408e5"
   },
   "outputs": [
    {
     "name": "stdout",
     "output_type": "stream",
     "text": [
      "duplicated value =  3\n"
     ]
    }
   ],
   "source": [
    "duplikat = saudi.duplicated().sum()\n",
    "print(f\"duplicated value =  {duplikat}\")"
   ]
  },
  {
   "cell_type": "markdown",
   "id": "b4e5dcc8",
   "metadata": {},
   "source": [
    "The dataset has 3 duplicated, i will delete the duplicate value "
   ]
  },
  {
   "cell_type": "markdown",
   "id": "75b746f3",
   "metadata": {},
   "source": []
  },
  {
   "cell_type": "code",
   "execution_count": 19,
   "id": "8109c08d",
   "metadata": {
    "ExecuteTime": {
     "end_time": "2023-03-13T06:26:37.724227Z",
     "start_time": "2023-03-13T06:26:37.700228Z"
    }
   },
   "outputs": [],
   "source": [
    "saudi.drop_duplicates(inplace=True)"
   ]
  },
  {
   "cell_type": "markdown",
   "id": "87a8c40e",
   "metadata": {},
   "source": [
    "## **Outliers**"
   ]
  },
  {
   "cell_type": "code",
   "execution_count": 20,
   "id": "7077399d",
   "metadata": {
    "ExecuteTime": {
     "end_time": "2023-03-13T06:26:38.468679Z",
     "start_time": "2023-03-13T06:26:37.724227Z"
    },
    "id": "7077399d",
    "outputId": "1b499d0b-406f-47d7-f534-383cbc23449d"
   },
   "outputs": [
    {
     "data": {
      "image/png": "[encoded data removed]",
      "text/plain": [
       "<Figure size 2000x300 with 4 Axes>"
      ]
     },
     "metadata": {},
     "output_type": "display_data"
    }
   ],
   "source": [
    "plt.figure(figsize=(20,3))\n",
    "\n",
    "plotnumber = 1\n",
    "for kolom in saudi.describe().columns:\n",
    "\n",
    "    plt.subplot(1,4, plotnumber)\n",
    "    sns.boxplot(data=saudi, x=kolom)\n",
    "\n",
    "    plotnumber += 1"
   ]
  },
  {
   "cell_type": "markdown",
   "id": "d93f3705",
   "metadata": {},
   "source": [
    "from this information, the Mileage column has an outlier. We will treat the outlier by removing it."
   ]
  },
  {
   "cell_type": "code",
   "execution_count": 48,
   "id": "3f5addaa",
   "metadata": {
    "ExecuteTime": {
     "end_time": "2023-03-13T12:55:53.034369Z",
     "start_time": "2023-03-13T12:55:53.015384Z"
    }
   },
   "outputs": [],
   "source": [
    "saudi=saudi[saudi['Mileage']<20000000]"
   ]
  },
  {
   "cell_type": "code",
   "execution_count": 21,
   "id": "6d5c19f8",
   "metadata": {
    "ExecuteTime": {
     "end_time": "2023-03-13T06:26:38.532849Z",
     "start_time": "2023-03-13T06:26:38.468854Z"
    },
    "scrolled": false
   },
   "outputs": [
    {
     "data": {
      "text/html": [
       "<div>\n",
       "<style scoped>\n",
       "    .dataframe tbody tr th:only-of-type {\n",
       "        vertical-align: middle;\n",
       "    }\n",
       "\n",
       "    .dataframe tbody tr th {\n",
       "        vertical-align: top;\n",
       "    }\n",
       "\n",
       "    .dataframe thead th {\n",
       "        text-align: right;\n",
       "    }\n",
       "</style>\n",
       "<table border=\"1\" class=\"dataframe\">\n",
       "  <thead>\n",
       "    <tr style=\"text-align: right;\">\n",
       "      <th></th>\n",
       "      <th>Type</th>\n",
       "      <th>Region</th>\n",
       "      <th>Make</th>\n",
       "      <th>Gear_Type</th>\n",
       "      <th>Origin</th>\n",
       "      <th>Options</th>\n",
       "      <th>Year</th>\n",
       "      <th>Engine_Size</th>\n",
       "      <th>Mileage</th>\n",
       "      <th>Negotiable</th>\n",
       "      <th>Price</th>\n",
       "    </tr>\n",
       "  </thead>\n",
       "  <tbody>\n",
       "    <tr>\n",
       "      <th>1</th>\n",
       "      <td>Yukon</td>\n",
       "      <td>Riyadh</td>\n",
       "      <td>GMC</td>\n",
       "      <td>Automatic</td>\n",
       "      <td>Saudi</td>\n",
       "      <td>Full</td>\n",
       "      <td>2014</td>\n",
       "      <td>8.0</td>\n",
       "      <td>80000</td>\n",
       "      <td>False</td>\n",
       "      <td>120000</td>\n",
       "    </tr>\n",
       "    <tr>\n",
       "      <th>2</th>\n",
       "      <td>Range Rover</td>\n",
       "      <td>Riyadh</td>\n",
       "      <td>Land Rover</td>\n",
       "      <td>Automatic</td>\n",
       "      <td>Gulf Arabic</td>\n",
       "      <td>Full</td>\n",
       "      <td>2015</td>\n",
       "      <td>5.0</td>\n",
       "      <td>140000</td>\n",
       "      <td>False</td>\n",
       "      <td>260000</td>\n",
       "    </tr>\n",
       "    <tr>\n",
       "      <th>3</th>\n",
       "      <td>Optima</td>\n",
       "      <td>Hafar Al-Batin</td>\n",
       "      <td>Kia</td>\n",
       "      <td>Automatic</td>\n",
       "      <td>Saudi</td>\n",
       "      <td>Semi Full</td>\n",
       "      <td>2015</td>\n",
       "      <td>2.4</td>\n",
       "      <td>220000</td>\n",
       "      <td>False</td>\n",
       "      <td>42000</td>\n",
       "    </tr>\n",
       "    <tr>\n",
       "      <th>5</th>\n",
       "      <td>CX3</td>\n",
       "      <td>Abha</td>\n",
       "      <td>Mazda</td>\n",
       "      <td>Automatic</td>\n",
       "      <td>Saudi</td>\n",
       "      <td>Semi Full</td>\n",
       "      <td>2019</td>\n",
       "      <td>2.0</td>\n",
       "      <td>25000</td>\n",
       "      <td>False</td>\n",
       "      <td>58000</td>\n",
       "    </tr>\n",
       "    <tr>\n",
       "      <th>6</th>\n",
       "      <td>Cayenne S</td>\n",
       "      <td>Riyadh</td>\n",
       "      <td>Porsche</td>\n",
       "      <td>Automatic</td>\n",
       "      <td>Saudi</td>\n",
       "      <td>Full</td>\n",
       "      <td>2012</td>\n",
       "      <td>4.8</td>\n",
       "      <td>189000</td>\n",
       "      <td>False</td>\n",
       "      <td>85000</td>\n",
       "    </tr>\n",
       "    <tr>\n",
       "      <th>...</th>\n",
       "      <td>...</td>\n",
       "      <td>...</td>\n",
       "      <td>...</td>\n",
       "      <td>...</td>\n",
       "      <td>...</td>\n",
       "      <td>...</td>\n",
       "      <td>...</td>\n",
       "      <td>...</td>\n",
       "      <td>...</td>\n",
       "      <td>...</td>\n",
       "      <td>...</td>\n",
       "    </tr>\n",
       "    <tr>\n",
       "      <th>5616</th>\n",
       "      <td>CX9</td>\n",
       "      <td>Qassim</td>\n",
       "      <td>Mazda</td>\n",
       "      <td>Automatic</td>\n",
       "      <td>Saudi</td>\n",
       "      <td>Full</td>\n",
       "      <td>2020</td>\n",
       "      <td>2.0</td>\n",
       "      <td>9500</td>\n",
       "      <td>False</td>\n",
       "      <td>132000</td>\n",
       "    </tr>\n",
       "    <tr>\n",
       "      <th>5618</th>\n",
       "      <td>Suburban</td>\n",
       "      <td>Riyadh</td>\n",
       "      <td>GMC</td>\n",
       "      <td>Automatic</td>\n",
       "      <td>Saudi</td>\n",
       "      <td>Full</td>\n",
       "      <td>2006</td>\n",
       "      <td>5.3</td>\n",
       "      <td>86000</td>\n",
       "      <td>False</td>\n",
       "      <td>50000</td>\n",
       "    </tr>\n",
       "    <tr>\n",
       "      <th>5619</th>\n",
       "      <td>X-Trail</td>\n",
       "      <td>Jeddah</td>\n",
       "      <td>Nissan</td>\n",
       "      <td>Automatic</td>\n",
       "      <td>Saudi</td>\n",
       "      <td>Standard</td>\n",
       "      <td>2018</td>\n",
       "      <td>2.5</td>\n",
       "      <td>78794</td>\n",
       "      <td>False</td>\n",
       "      <td>68000</td>\n",
       "    </tr>\n",
       "    <tr>\n",
       "      <th>5621</th>\n",
       "      <td>Yukon</td>\n",
       "      <td>Dammam</td>\n",
       "      <td>GMC</td>\n",
       "      <td>Automatic</td>\n",
       "      <td>Saudi</td>\n",
       "      <td>Full</td>\n",
       "      <td>2016</td>\n",
       "      <td>5.3</td>\n",
       "      <td>48000</td>\n",
       "      <td>False</td>\n",
       "      <td>145000</td>\n",
       "    </tr>\n",
       "    <tr>\n",
       "      <th>5622</th>\n",
       "      <td>RX</td>\n",
       "      <td>Dammam</td>\n",
       "      <td>Lexus</td>\n",
       "      <td>Automatic</td>\n",
       "      <td>Gulf Arabic</td>\n",
       "      <td>Full</td>\n",
       "      <td>2016</td>\n",
       "      <td>2.5</td>\n",
       "      <td>81000</td>\n",
       "      <td>False</td>\n",
       "      <td>154000</td>\n",
       "    </tr>\n",
       "  </tbody>\n",
       "</table>\n",
       "<p>3755 rows × 11 columns</p>\n",
       "</div>"
      ],
      "text/plain": [
       "             Type          Region        Make  Gear_Type       Origin  \\\n",
       "1     Yukon        Riyadh          GMC         Automatic  Saudi         \n",
       "2     Range Rover  Riyadh          Land Rover  Automatic  Gulf Arabic   \n",
       "3     Optima       Hafar Al-Batin  Kia         Automatic  Saudi         \n",
       "5     CX3          Abha            Mazda       Automatic  Saudi         \n",
       "6     Cayenne S    Riyadh          Porsche     Automatic  Saudi         \n",
       "...         ...       ...              ...           ...    ...         \n",
       "5616  CX9          Qassim          Mazda       Automatic  Saudi         \n",
       "5618  Suburban     Riyadh          GMC         Automatic  Saudi         \n",
       "5619  X-Trail      Jeddah          Nissan      Automatic  Saudi         \n",
       "5621  Yukon        Dammam          GMC         Automatic  Saudi         \n",
       "5622  RX           Dammam          Lexus       Automatic  Gulf Arabic   \n",
       "\n",
       "        Options  Year  Engine_Size  Mileage  Negotiable   Price  \n",
       "1     Full       2014  8.0          80000    False       120000  \n",
       "2     Full       2015  5.0          140000   False       260000  \n",
       "3     Semi Full  2015  2.4          220000   False       42000   \n",
       "5     Semi Full  2019  2.0          25000    False       58000   \n",
       "6     Full       2012  4.8          189000   False       85000   \n",
       "...    ...        ...  ...             ...     ...         ...   \n",
       "5616  Full       2020  2.0          9500     False       132000  \n",
       "5618  Full       2006  5.3          86000    False       50000   \n",
       "5619  Standard   2018  2.5          78794    False       68000   \n",
       "5621  Full       2016  5.3          48000    False       145000  \n",
       "5622  Full       2016  2.5          81000    False       154000  \n",
       "\n",
       "[3755 rows x 11 columns]"
      ]
     },
     "execution_count": 21,
     "metadata": {},
     "output_type": "execute_result"
    }
   ],
   "source": [
    "saudi.query(\" Mileage >= 10000000  \")"
   ]
  },
  {
   "cell_type": "markdown",
   "id": "deffcd21",
   "metadata": {},
   "source": [
    "**The outliers**\n",
    "\n",
    "An outlier is an observation that lies an abnormal distance from other values in a random sample from a population.\n",
    "\n",
    "- in the year column, we can see there are outliers where some cars are manufactured under 1970. Some outliers needs no treatment because it can give us information. one of the outliers is Impala Chevrolet. It is a classic car that can be sold again. I will not treat this outliers because it gives us information.\n",
    "- I will not treat Engine_size\n",
    "- in the mileage column, there is an outliers, I will treat the column by droping the outlier's row\n"
   ]
  },
  {
   "cell_type": "code",
   "execution_count": 22,
   "id": "1c14f3f7",
   "metadata": {
    "ExecuteTime": {
     "end_time": "2023-03-13T06:26:38.548870Z",
     "start_time": "2023-03-13T06:26:38.532849Z"
    }
   },
   "outputs": [],
   "source": [
    "def find_anomalies(data):\n",
    "    q1 = data.quantile(0.25)\n",
    "    q3 = data.quantile(0.75)\n",
    "    iqr = q3 - q1\n",
    "    limit = iqr*1.5\n",
    "    print(f'IQR: {iqr}')\n",
    "\n",
    "    lower_limit = q1 - limit\n",
    "    upper_limit = q3 + limit\n",
    "    print(f'lower limit : {lower_limit}')\n",
    "    print(f'upper limit: {upper_limit}')    "
   ]
  },
  {
   "cell_type": "code",
   "execution_count": 23,
   "id": "032f1c55",
   "metadata": {
    "ExecuteTime": {
     "end_time": "2023-03-13T06:26:38.596871Z",
     "start_time": "2023-03-13T06:26:38.548870Z"
    }
   },
   "outputs": [
    {
     "name": "stdout",
     "output_type": "stream",
     "text": [
      "Column: Year\n",
      "IQR: 5.0\n",
      "lower limit : 2005.5\n",
      "upper limit: 2025.5\n",
      "Column: Engine_Size\n",
      "IQR: 2.0\n",
      "lower limit : -1.0\n",
      "upper limit: 7.0\n",
      "Column: Mileage\n",
      "IQR: 135000.0\n",
      "lower limit : -153500.0\n",
      "upper limit: 386500.0\n",
      "Column: Price\n",
      "IQR: 59000.0\n",
      "lower limit : -52500.0\n",
      "upper limit: 183500.0\n"
     ]
    }
   ],
   "source": [
    "for col in saudi.describe().columns:\n",
    "    print(f\"Column: {col}\")\n",
    "    find_anomalies(saudi[col])\n"
   ]
  },
  {
   "cell_type": "markdown",
   "id": "3b0865ac",
   "metadata": {},
   "source": [
    "## Data Correlation"
   ]
  },
  {
   "cell_type": "code",
   "execution_count": 24,
   "id": "807c27ff",
   "metadata": {
    "ExecuteTime": {
     "end_time": "2023-03-13T06:26:39.092799Z",
     "start_time": "2023-03-13T06:26:38.596871Z"
    },
    "scrolled": true
   },
   "outputs": [
    {
     "data": {
      "image/png": "[encoded data removed]",
      "text/plain": [
       "<Figure size 1500x1200 with 2 Axes>"
      ]
     },
     "metadata": {},
     "output_type": "display_data"
    }
   ],
   "source": [
    "# Correlation matrix\n",
    "plt.figure(figsize=(15, 12))\n",
    "palette=sns.diverging_palette(20, 220, n=256)\n",
    "corr = saudi.corr(method='pearson')\n",
    "sns.heatmap(corr, annot=True, fmt='.2f', cmap=palette, square=True, linewidths=.5)\n",
    "plt.title('Correlation Matrix', size=15, weight='bold');"
   ]
  },
  {
   "cell_type": "markdown",
   "id": "c6667a35",
   "metadata": {},
   "source": [
    "## Droping the column"
   ]
  },
  {
   "cell_type": "markdown",
   "id": "HHoWzbj4fqHF",
   "metadata": {
    "id": "HHoWzbj4fqHF"
   },
   "source": [
    "The Negotiable column is a boolean type of data that we cannot use for further analysis and the model"
   ]
  },
  {
   "cell_type": "code",
   "execution_count": 25,
   "id": "53caf677",
   "metadata": {
    "ExecuteTime": {
     "end_time": "2023-03-13T06:26:39.108820Z",
     "start_time": "2023-03-13T06:26:39.092799Z"
    },
    "id": "53caf677"
   },
   "outputs": [],
   "source": [
    "saudi = saudi.drop(columns='Negotiable')"
   ]
  },
  {
   "cell_type": "code",
   "execution_count": 26,
   "id": "3e89aae8",
   "metadata": {
    "ExecuteTime": {
     "end_time": "2023-03-13T06:26:39.188791Z",
     "start_time": "2023-03-13T06:26:39.108820Z"
    },
    "scrolled": false
   },
   "outputs": [
    {
     "data": {
      "text/html": [
       "<div>\n",
       "<style scoped>\n",
       "    .dataframe tbody tr th:only-of-type {\n",
       "        vertical-align: middle;\n",
       "    }\n",
       "\n",
       "    .dataframe tbody tr th {\n",
       "        vertical-align: top;\n",
       "    }\n",
       "\n",
       "    .dataframe thead th {\n",
       "        text-align: right;\n",
       "    }\n",
       "</style>\n",
       "<table border=\"1\" class=\"dataframe\">\n",
       "  <thead>\n",
       "    <tr style=\"text-align: right;\">\n",
       "      <th></th>\n",
       "      <th>dataFeatures</th>\n",
       "      <th>dataType</th>\n",
       "      <th>null</th>\n",
       "      <th>nullPct</th>\n",
       "      <th>unique</th>\n",
       "      <th>uniqueSample</th>\n",
       "    </tr>\n",
       "  </thead>\n",
       "  <tbody>\n",
       "    <tr>\n",
       "      <th>0</th>\n",
       "      <td>Type</td>\n",
       "      <td>object</td>\n",
       "      <td>0</td>\n",
       "      <td>0.0</td>\n",
       "      <td>318</td>\n",
       "      <td>[C200, Charger]</td>\n",
       "    </tr>\n",
       "    <tr>\n",
       "      <th>1</th>\n",
       "      <td>Region</td>\n",
       "      <td>object</td>\n",
       "      <td>0</td>\n",
       "      <td>0.0</td>\n",
       "      <td>27</td>\n",
       "      <td>[Besha, Al-Medina]</td>\n",
       "    </tr>\n",
       "    <tr>\n",
       "      <th>2</th>\n",
       "      <td>Make</td>\n",
       "      <td>object</td>\n",
       "      <td>0</td>\n",
       "      <td>0.0</td>\n",
       "      <td>56</td>\n",
       "      <td>[Mitsubishi, MG]</td>\n",
       "    </tr>\n",
       "    <tr>\n",
       "      <th>3</th>\n",
       "      <td>Gear_Type</td>\n",
       "      <td>object</td>\n",
       "      <td>0</td>\n",
       "      <td>0.0</td>\n",
       "      <td>2</td>\n",
       "      <td>[Automatic, Manual]</td>\n",
       "    </tr>\n",
       "    <tr>\n",
       "      <th>4</th>\n",
       "      <td>Origin</td>\n",
       "      <td>object</td>\n",
       "      <td>0</td>\n",
       "      <td>0.0</td>\n",
       "      <td>4</td>\n",
       "      <td>[Saudi, Other]</td>\n",
       "    </tr>\n",
       "    <tr>\n",
       "      <th>5</th>\n",
       "      <td>Options</td>\n",
       "      <td>object</td>\n",
       "      <td>0</td>\n",
       "      <td>0.0</td>\n",
       "      <td>3</td>\n",
       "      <td>[Semi Full, Standard]</td>\n",
       "    </tr>\n",
       "    <tr>\n",
       "      <th>6</th>\n",
       "      <td>Year</td>\n",
       "      <td>int64</td>\n",
       "      <td>0</td>\n",
       "      <td>0.0</td>\n",
       "      <td>41</td>\n",
       "      <td>[2009, 2004]</td>\n",
       "    </tr>\n",
       "    <tr>\n",
       "      <th>7</th>\n",
       "      <td>Engine_Size</td>\n",
       "      <td>float64</td>\n",
       "      <td>0</td>\n",
       "      <td>0.0</td>\n",
       "      <td>65</td>\n",
       "      <td>[6.3, 4.3]</td>\n",
       "    </tr>\n",
       "    <tr>\n",
       "      <th>8</th>\n",
       "      <td>Mileage</td>\n",
       "      <td>int64</td>\n",
       "      <td>0</td>\n",
       "      <td>0.0</td>\n",
       "      <td>1329</td>\n",
       "      <td>[289000, 172]</td>\n",
       "    </tr>\n",
       "    <tr>\n",
       "      <th>9</th>\n",
       "      <td>Price</td>\n",
       "      <td>int64</td>\n",
       "      <td>0</td>\n",
       "      <td>0.0</td>\n",
       "      <td>404</td>\n",
       "      <td>[87500, 57500]</td>\n",
       "    </tr>\n",
       "  </tbody>\n",
       "</table>\n",
       "</div>"
      ],
      "text/plain": [
       "  dataFeatures dataType  null  nullPct  unique           uniqueSample\n",
       "0  Type         object   0     0.0      318     [C200, Charger]      \n",
       "1  Region       object   0     0.0      27      [Besha, Al-Medina]   \n",
       "2  Make         object   0     0.0      56      [Mitsubishi, MG]     \n",
       "3  Gear_Type    object   0     0.0      2       [Automatic, Manual]  \n",
       "4  Origin       object   0     0.0      4       [Saudi, Other]       \n",
       "5  Options      object   0     0.0      3       [Semi Full, Standard]\n",
       "6  Year         int64    0     0.0      41      [2009, 2004]         \n",
       "7  Engine_Size  float64  0     0.0      65      [6.3, 4.3]           \n",
       "8  Mileage      int64    0     0.0      1329    [289000, 172]        \n",
       "9  Price        int64    0     0.0      404     [87500, 57500]       "
      ]
     },
     "execution_count": 26,
     "metadata": {},
     "output_type": "execute_result"
    }
   ],
   "source": [
    "\n",
    "listItem = []\n",
    "\n",
    "for col in saudi.columns:\n",
    "    listItem.append([col, saudi[col].dtype, saudi[col].isna().sum(), round((saudi[col].isna().sum()/len(saudi[col]))*100, 2),\n",
    "                    saudi[col].nunique(), list(saudi[col].drop_duplicates().sample(2).values)]);\n",
    "\n",
    "df_model_desc = pd.DataFrame(columns=['dataFeatures', 'dataType', 'null', 'nullPct', 'unique', 'uniqueSample'],\n",
    "                     data=listItem)\n",
    "df_model_desc"
   ]
  },
  {
   "cell_type": "markdown",
   "id": "1b616820",
   "metadata": {},
   "source": [
    "# **Modeling**"
   ]
  },
  {
   "cell_type": "markdown",
   "id": "9ed361e0",
   "metadata": {},
   "source": [
    "## **Split Train Test**"
   ]
  },
  {
   "cell_type": "code",
   "execution_count": 49,
   "id": "e26cb69e",
   "metadata": {
    "ExecuteTime": {
     "end_time": "2023-03-13T12:56:03.907324Z",
     "start_time": "2023-03-13T12:56:03.876188Z"
    },
    "id": "e26cb69e"
   },
   "outputs": [],
   "source": [
    "# define X y\n",
    "X = saudi.drop(columns='Price')\n",
    "y = saudi['Price'] "
   ]
  },
  {
   "cell_type": "markdown",
   "id": "abd4de94",
   "metadata": {},
   "source": [
    "Splitting data training and test with the proportion of 80:20"
   ]
  },
  {
   "cell_type": "code",
   "execution_count": 50,
   "id": "652d1f25",
   "metadata": {
    "ExecuteTime": {
     "end_time": "2023-03-13T12:56:05.216447Z",
     "start_time": "2023-03-13T12:56:05.196468Z"
    },
    "id": "652d1f25"
   },
   "outputs": [],
   "source": [
    "X_train, X_test, y_train, y_test = train_test_split(\n",
    "X,\n",
    " y,\n",
    " test_size=0.2,\n",
    " random_state=0)"
   ]
  },
  {
   "cell_type": "markdown",
   "id": "e31b8a85",
   "metadata": {},
   "source": [
    "## Transformer of Encoding & Scaling\n",
    "\n",
    "To be able to use all the selected features, categorical features must be converted into numerical features. We can use ColumnTransformer to change the data types, which can then be applied to the pipeline model."
   ]
  },
  {
   "cell_type": "code",
   "execution_count": 51,
   "id": "7cbbec67",
   "metadata": {
    "ExecuteTime": {
     "end_time": "2023-03-13T12:56:09.446363Z",
     "start_time": "2023-03-13T12:56:09.437064Z"
    },
    "id": "7cbbec67"
   },
   "outputs": [],
   "source": [
    "transformer = ColumnTransformer([\n",
    "    ('scaler', RobustScaler(), ['Year', 'Mileage']),\n",
    "    ('onehot', OneHotEncoder(drop='first'), ['Origin', 'Gear_Type', 'Options']),\n",
    "    ('binary', ce.BinaryEncoder(),['Type', 'Region', 'Make'])\n",
    "], remainder='passthrough')"
   ]
  },
  {
   "cell_type": "markdown",
   "id": "c824bbf8",
   "metadata": {},
   "source": [
    "## **Choosing the best model**"
   ]
  },
  {
   "cell_type": "code",
   "execution_count": 30,
   "id": "7ef8175f",
   "metadata": {
    "ExecuteTime": {
     "end_time": "2023-03-13T06:26:39.396771Z",
     "start_time": "2023-03-13T06:26:39.268783Z"
    }
   },
   "outputs": [],
   "source": [
    "# Import library\n",
    "\n",
    "from sklearn.model_selection import train_test_split, cross_val_score, GridSearchCV, KFold\n",
    "\n",
    "import category_encoders as ce\n",
    "from sklearn.preprocessing import OneHotEncoder\n",
    "from sklearn.compose import ColumnTransformer\n",
    "from sklearn.pipeline import Pipeline\n",
    "\n",
    "from sklearn.linear_model import LinearRegression\n",
    "from sklearn.neighbors import KNeighborsRegressor\n",
    "from sklearn.tree import DecisionTreeRegressor\n",
    "from xgboost.sklearn import XGBRegressor\n",
    "from sklearn.compose import TransformedTargetRegressor\n",
    "from sklearn.ensemble import RandomForestRegressor, GradientBoostingRegressor\n",
    "from sklearn.svm import SVR\n",
    "from sklearn.linear_model import BayesianRidge\n",
    "\n",
    "from sklearn.preprocessing import StandardScaler, RobustScaler\n",
    "\n",
    "from sklearn.metrics import r2_score, mean_squared_error, mean_absolute_error, mean_absolute_percentage_error"
   ]
  },
  {
   "cell_type": "markdown",
   "id": "f2b64b69",
   "metadata": {},
   "source": [
    "Cross-validation is a statistical method used to evaluate machine learning models. It helps to reduce the risk of overfitting and provides an estimate of how well the model is likely to perform on new, unseen data.\n",
    "\n",
    "In this code, the `cross_val_score` function is used to perform cross-validation for three different evaluation metrics: \n",
    "- root mean squared error (RMSE), \n",
    "- mean absolute error (MAE), \n",
    "- and mean absolute percentage error (MAPE). \n",
    "\n",
    "`The Pipeline()` function is used to chain the data preprocessing and model building steps into a single object that can be evaluated using cross-validation.\n",
    "\n",
    "The models list contains eight different regression models:\n",
    "1. LinearRegression(),\n",
    "2. DecisionTreeRegressor(),\n",
    "3. RandomForestRegressor(),\n",
    "4. GradientBoostingRegressor(),\n",
    "5. SVR(),\n",
    "6. BayesianRidge(),\n",
    "7. KNeighborsRegressor(),\n",
    "8. XGBRegressor()\n",
    "\n",
    "By testing multiple models, we can compare their performance and choose the one that performs the best for our specific task.\n",
    "\n",
    "Overall, by using cross-validation to evaluate multiple regression models, we can determine which model is the best fit for our data and select it for further use."
   ]
  },
  {
   "cell_type": "code",
   "execution_count": 52,
   "id": "b3a71f4a",
   "metadata": {
    "ExecuteTime": {
     "end_time": "2023-03-13T12:57:27.270956Z",
     "start_time": "2023-03-13T12:56:19.876933Z"
    },
    "id": "b3a71f4a",
    "outputId": "66a260a1-dfe8-413a-ddc8-f3c16d467140",
    "scrolled": true
   },
   "outputs": [
    {
     "name": "stdout",
     "output_type": "stream",
     "text": [
      "[-50093.48359896 -52407.15078444 -62516.72139737 -51426.55931634\n",
      " -63609.10309481] LinearRegression()\n",
      "[-31061.73678073 -33729.6851644  -37443.57464619 -33239.85443004\n",
      " -39028.57110449] LinearRegression()\n",
      "[-0.6325565  -0.68510598 -0.75249366 -0.66089313 -0.70551115] LinearRegression()\n",
      "[-47393.15850226 -51492.68632948 -49258.73614535 -49138.98923525\n",
      " -52704.18386463] DecisionTreeRegressor()\n",
      "[-24116.47420965 -25877.718802   -23781.00998336 -24462.24625624\n",
      " -24915.01833333] DecisionTreeRegressor()\n",
      "[-0.36536662 -0.36323334 -0.42235495 -0.39637535 -0.33632099] DecisionTreeRegressor()\n",
      "[-34414.74444042 -34448.82813419 -37634.88523918 -34955.24072354\n",
      " -38839.97909008] RandomForestRegressor()\n",
      "[-17343.842335   -17641.05945092 -18233.09951747 -17327.96306077\n",
      " -18774.93264444] RandomForestRegressor()\n",
      "[-0.2849678  -0.29682322 -0.35385021 -0.31160398 -0.27608027] RandomForestRegressor()\n",
      "[-37431.93205259 -36596.39890326 -38317.99899632 -37028.06712863\n",
      " -43441.0950947 ] GradientBoostingRegressor()\n",
      "[-20069.08555588 -21727.58115638 -20874.41566827 -21190.43477645\n",
      " -23524.40082265] GradientBoostingRegressor()\n",
      "[-0.33138905 -0.36144656 -0.38554401 -0.35189248 -0.36199147] GradientBoostingRegressor()\n",
      "[-74149.73551137 -72058.91110303 -87913.72884658 -67865.43985659\n",
      " -84456.52939373] SVR()\n",
      "[-42921.96256052 -41817.81104752 -47057.36589721 -40103.9241797\n",
      " -49828.40054894] SVR()\n",
      "[-0.74246921 -0.71205343 -0.71952904 -0.69473807 -0.73509452] SVR()\n",
      "[-50071.30209923 -52370.72661777 -62595.33001187 -51284.79580063\n",
      " -63406.85724844] BayesianRidge()\n",
      "[-30977.48466362 -33657.36429153 -37293.50489347 -32953.08822534\n",
      " -38700.74651093] BayesianRidge()\n",
      "[-0.62691363 -0.68264815 -0.74807304 -0.64869874 -0.69813667] BayesianRidge()\n",
      "[-43447.92744594 -34420.58322501 -40394.70755496 -37101.3260846\n",
      " -47152.75191601] KNeighborsRegressor()\n",
      "[-22630.48985025 -18883.45024958 -21195.46988353 -19490.32312812\n",
      " -24389.87433333] KNeighborsRegressor()\n",
      "[-0.40026621 -0.33127661 -0.40820711 -0.32563146 -0.38007695] KNeighborsRegressor()\n",
      "[-33193.96819485 -33151.81307615 -36780.03563734 -29308.8798766\n",
      " -38821.12448285] XGBRegressor(base_score=None, booster=None, callbacks=None,\n",
      "             colsample_bylevel=None, colsample_bynode=None,\n",
      "             colsample_bytree=None, early_stopping_rounds=None,\n",
      "             enable_categorical=False, eval_metric=None, feature_types=None,\n",
      "             gamma=None, gpu_id=None, grow_policy=None, importance_type=None,\n",
      "             interaction_constraints=None, learning_rate=None, max_bin=None,\n",
      "             max_cat_threshold=None, max_cat_to_onehot=None,\n",
      "             max_delta_step=None, max_depth=None, max_leaves=None,\n",
      "             min_child_weight=None, missing=nan, monotone_constraints=None,\n",
      "             n_estimators=100, n_jobs=None, num_parallel_tree=None,\n",
      "             predictor=None, random_state=1, ...)\n",
      "[-16528.96900673 -17260.47968494 -16738.6369373  -15394.74614811\n",
      " -19734.46086449] XGBRegressor(base_score=None, booster=None, callbacks=None,\n",
      "             colsample_bylevel=None, colsample_bynode=None,\n",
      "             colsample_bytree=None, early_stopping_rounds=None,\n",
      "             enable_categorical=False, eval_metric=None, feature_types=None,\n",
      "             gamma=None, gpu_id=None, grow_policy=None, importance_type=None,\n",
      "             interaction_constraints=None, learning_rate=None, max_bin=None,\n",
      "             max_cat_threshold=None, max_cat_to_onehot=None,\n",
      "             max_delta_step=None, max_depth=None, max_leaves=None,\n",
      "             min_child_weight=None, missing=nan, monotone_constraints=None,\n",
      "             n_estimators=100, n_jobs=None, num_parallel_tree=None,\n",
      "             predictor=None, random_state=1, ...)\n",
      "[-0.26989719 -0.27759353 -0.27756539 -0.26966232 -0.29780975] XGBRegressor(base_score=None, booster=None, callbacks=None,\n",
      "             colsample_bylevel=None, colsample_bynode=None,\n",
      "             colsample_bytree=None, early_stopping_rounds=None,\n",
      "             enable_categorical=False, eval_metric=None, feature_types=None,\n",
      "             gamma=None, gpu_id=None, grow_policy=None, importance_type=None,\n",
      "             interaction_constraints=None, learning_rate=None, max_bin=None,\n",
      "             max_cat_threshold=None, max_cat_to_onehot=None,\n",
      "             max_delta_step=None, max_depth=None, max_leaves=None,\n",
      "             min_child_weight=None, missing=nan, monotone_constraints=None,\n",
      "             n_estimators=100, n_jobs=None, num_parallel_tree=None,\n",
      "             predictor=None, random_state=1, ...)\n"
     ]
    }
   ],
   "source": [
    "models = [\n",
    "    LinearRegression(),\n",
    "    DecisionTreeRegressor(),\n",
    "    RandomForestRegressor(),\n",
    "    GradientBoostingRegressor(),\n",
    "    SVR(),\n",
    "    BayesianRidge(),\n",
    "    KNeighborsRegressor(),\n",
    "    XGBRegressor(random_state=1)\n",
    "]\n",
    "\n",
    "score_rmse = []\n",
    "nilai_mean_rmse = []\n",
    "nilai_std_rmse = []\n",
    "\n",
    "score_mae = []\n",
    "nilai_mean_mae = []\n",
    "nilai_std_mae = []\n",
    "\n",
    "score_mape = []\n",
    "nilai_mean_mape = []\n",
    "nilai_std_mape = []\n",
    "\n",
    "# finding the best algorithm based on metrics\n",
    "for i in models:\n",
    "    \n",
    "    crossval = KFold(n_splits=5, shuffle=True, random_state=1)\n",
    "\n",
    "    estimator = Pipeline([\n",
    "        ('preprocessing', transformer),\n",
    "        ('model', i)\n",
    "    ])\n",
    "\n",
    "    # RMSE\n",
    "    model_cv_rmse = cross_val_score(\n",
    "        estimator, \n",
    "        X_train, \n",
    "        y_train, \n",
    "        cv=crossval, \n",
    "        scoring='neg_root_mean_squared_error'\n",
    "        )\n",
    "\n",
    "    print(model_cv_rmse, i)\n",
    "\n",
    "    score_rmse.append(model_cv_rmse)\n",
    "    nilai_mean_rmse.append(model_cv_rmse.mean())\n",
    "    nilai_std_rmse.append(model_cv_rmse.std())\n",
    "\n",
    "    # MAE\n",
    "    model_cv_mae = cross_val_score(\n",
    "        estimator, \n",
    "        X_train, \n",
    "        y_train, \n",
    "        cv=crossval, \n",
    "        scoring='neg_mean_absolute_error'\n",
    "        )\n",
    "\n",
    "    print(model_cv_mae, i)\n",
    "\n",
    "    score_mae.append(model_cv_mae)\n",
    "    nilai_mean_mae.append(model_cv_mae.mean())\n",
    "    nilai_std_mae.append(model_cv_mae.std())\n",
    "\n",
    "    # MAPE\n",
    "    model_cv_mape = cross_val_score(\n",
    "        estimator, \n",
    "        X_train, \n",
    "        y_train, \n",
    "        cv=crossval, \n",
    "        scoring='neg_mean_absolute_percentage_error'\n",
    "        )\n",
    "\n",
    "    print(model_cv_mape, i)\n",
    "\n",
    "    score_mape.append(model_cv_mape)\n",
    "    nilai_mean_mape.append(model_cv_mape.mean())\n",
    "    nilai_std_mape.append(model_cv_mape.std())"
   ]
  },
  {
   "cell_type": "code",
   "execution_count": 53,
   "id": "084d44c5",
   "metadata": {
    "ExecuteTime": {
     "end_time": "2023-03-13T12:57:27.318210Z",
     "start_time": "2023-03-13T12:57:27.271447Z"
    },
    "scrolled": true
   },
   "outputs": [
    {
     "data": {
      "text/html": [
       "<div>\n",
       "<style scoped>\n",
       "    .dataframe tbody tr th:only-of-type {\n",
       "        vertical-align: middle;\n",
       "    }\n",
       "\n",
       "    .dataframe tbody tr th {\n",
       "        vertical-align: top;\n",
       "    }\n",
       "\n",
       "    .dataframe thead th {\n",
       "        text-align: right;\n",
       "    }\n",
       "</style>\n",
       "<table border=\"1\" class=\"dataframe\">\n",
       "  <thead>\n",
       "    <tr style=\"text-align: right;\">\n",
       "      <th></th>\n",
       "      <th>Model</th>\n",
       "      <th>RMSE_mean</th>\n",
       "      <th>RMSE_std</th>\n",
       "      <th>MAE_mean</th>\n",
       "      <th>MAE_std</th>\n",
       "      <th>MAPE_mean</th>\n",
       "      <th>MAPE_std</th>\n",
       "    </tr>\n",
       "  </thead>\n",
       "  <tbody>\n",
       "    <tr>\n",
       "      <th>0</th>\n",
       "      <td>Linear Regression</td>\n",
       "      <td>-56010.603638</td>\n",
       "      <td>5815.108024</td>\n",
       "      <td>-34900.684425</td>\n",
       "      <td>2911.111598</td>\n",
       "      <td>-0.687312</td>\n",
       "      <td>0.040696</td>\n",
       "    </tr>\n",
       "    <tr>\n",
       "      <th>1</th>\n",
       "      <td>Decision Tree</td>\n",
       "      <td>-49997.550815</td>\n",
       "      <td>1877.611626</td>\n",
       "      <td>-24630.493517</td>\n",
       "      <td>728.103090</td>\n",
       "      <td>-0.376730</td>\n",
       "      <td>0.029704</td>\n",
       "    </tr>\n",
       "    <tr>\n",
       "      <th>2</th>\n",
       "      <td>Random Forest</td>\n",
       "      <td>-36058.735525</td>\n",
       "      <td>1829.304401</td>\n",
       "      <td>-17864.179402</td>\n",
       "      <td>561.005287</td>\n",
       "      <td>-0.304665</td>\n",
       "      <td>0.027327</td>\n",
       "    </tr>\n",
       "    <tr>\n",
       "      <th>3</th>\n",
       "      <td>Gradient Boosting</td>\n",
       "      <td>-38563.098435</td>\n",
       "      <td>2504.343854</td>\n",
       "      <td>-21477.183596</td>\n",
       "      <td>1156.035593</td>\n",
       "      <td>-0.358453</td>\n",
       "      <td>0.017498</td>\n",
       "    </tr>\n",
       "    <tr>\n",
       "      <th>4</th>\n",
       "      <td>SVR</td>\n",
       "      <td>-77288.868942</td>\n",
       "      <td>7619.325925</td>\n",
       "      <td>-44345.892847</td>\n",
       "      <td>3572.759438</td>\n",
       "      <td>-0.720777</td>\n",
       "      <td>0.016919</td>\n",
       "    </tr>\n",
       "    <tr>\n",
       "      <th>5</th>\n",
       "      <td>Bayesian Ridge</td>\n",
       "      <td>-55945.802356</td>\n",
       "      <td>5812.047145</td>\n",
       "      <td>-34716.437717</td>\n",
       "      <td>2854.007697</td>\n",
       "      <td>-0.680894</td>\n",
       "      <td>0.041866</td>\n",
       "    </tr>\n",
       "    <tr>\n",
       "      <th>6</th>\n",
       "      <td>K-Nearest Neighbors</td>\n",
       "      <td>-40503.459245</td>\n",
       "      <td>4504.901856</td>\n",
       "      <td>-21317.921489</td>\n",
       "      <td>2021.954023</td>\n",
       "      <td>-0.369092</td>\n",
       "      <td>0.034471</td>\n",
       "    </tr>\n",
       "    <tr>\n",
       "      <th>7</th>\n",
       "      <td>XGBRegressor</td>\n",
       "      <td>-34251.164254</td>\n",
       "      <td>3287.313139</td>\n",
       "      <td>-17131.458528</td>\n",
       "      <td>1437.062277</td>\n",
       "      <td>-0.278506</td>\n",
       "      <td>0.010263</td>\n",
       "    </tr>\n",
       "  </tbody>\n",
       "</table>\n",
       "</div>"
      ],
      "text/plain": [
       "                 Model     RMSE_mean     RMSE_std      MAE_mean      MAE_std  \\\n",
       "0  Linear Regression   -56010.603638  5815.108024 -34900.684425  2911.111598   \n",
       "1  Decision Tree       -49997.550815  1877.611626 -24630.493517  728.103090    \n",
       "2  Random Forest       -36058.735525  1829.304401 -17864.179402  561.005287    \n",
       "3  Gradient Boosting   -38563.098435  2504.343854 -21477.183596  1156.035593   \n",
       "4  SVR                 -77288.868942  7619.325925 -44345.892847  3572.759438   \n",
       "5  Bayesian Ridge      -55945.802356  5812.047145 -34716.437717  2854.007697   \n",
       "6  K-Nearest Neighbors -40503.459245  4504.901856 -21317.921489  2021.954023   \n",
       "7  XGBRegressor        -34251.164254  3287.313139 -17131.458528  1437.062277   \n",
       "\n",
       "   MAPE_mean  MAPE_std  \n",
       "0 -0.687312   0.040696  \n",
       "1 -0.376730   0.029704  \n",
       "2 -0.304665   0.027327  \n",
       "3 -0.358453   0.017498  \n",
       "4 -0.720777   0.016919  \n",
       "5 -0.680894   0.041866  \n",
       "6 -0.369092   0.034471  \n",
       "7 -0.278506   0.010263  "
      ]
     },
     "execution_count": 53,
     "metadata": {},
     "output_type": "execute_result"
    }
   ],
   "source": [
    "# create a dictionary to store the results\n",
    "results_dict = {\n",
    "    'Model': ['Linear Regression', 'Decision Tree', \n",
    "              'Random Forest', 'Gradient Boosting', 'SVR', 'Bayesian Ridge', \n",
    "              'K-Nearest Neighbors', 'XGBRegressor'],\n",
    "    'RMSE_mean': nilai_mean_rmse,\n",
    "    'RMSE_std': nilai_std_rmse,\n",
    "    'MAE_mean': nilai_mean_mae,\n",
    "    'MAE_std': nilai_std_mae,\n",
    "    'MAPE_mean': nilai_mean_mape,\n",
    "    'MAPE_std': nilai_std_mape\n",
    "}\n",
    "\n",
    "# create a dataframe from the dictionary\n",
    "results_df = pd.DataFrame(results_dict)\n",
    "\n",
    "# print the dataframe\n",
    "results_df"
   ]
  },
  {
   "cell_type": "markdown",
   "id": "f7ec7b16",
   "metadata": {},
   "source": [
    "This dataframe shows the results of cross-validation scores for each tested regression model using three metrics: \n",
    "1. RMSE (Root Mean Squared Error), \n",
    "2. MAE (Mean Absolute Error),\n",
    "3. and MAPE (Mean Absolute Percentage Error).\n",
    "\n",
    "For each model, the dataframe shows the mean and standard deviation of the scores for each metric. Lower scores indicate better performance, so we can compare the models by looking at the mean scores.\n",
    "\n",
    "Based on the mean RMSE scores, the `XGBRegressor` model performed the best with a score of -34251., followed by the `Random Forest` model with a score of -36058.735525\t. The SVR model had the worst RMSE score with a mean of -77288.868942.\n",
    "\n",
    "For the MAE metric, the XGBRegressor model again had the best performance with a mean score of -17131.458528, followed by the `Random Forest` model with a score of 17864.179402. The SVR model had the worst MAE score with a mean of -44345.892847.\n",
    "\n",
    "For the MAPE metric, The best performance for MAPE was achieved by the XGBRegressor with a mean score of -0.278506\n",
    "\n",
    "Overall, the `XGBRegressor` and `Random Forest` models appear to be the best performing models based on the mean scores for all three metrics.\n",
    "\n",
    "we will use the best model which is `XGBRegressor` to be tuned up"
   ]
  },
  {
   "cell_type": "markdown",
   "id": "24f11821",
   "metadata": {},
   "source": [
    "### What is XGBoost?\n",
    "\n",
    "Gradient boosting is a supervised learning algorithm that can accurately predict a target variable by combining the predictions of a set of simpler and weaker models. When used for regression, the weak learners are regression trees, where each regression tree maps an input data point to one of its leaves, which contains a continuous score.\n",
    "\n",
    "If Random Forest can be likened to a group of people who discuss and make decisions based on their knowledge, then Gradient Boosting can be likened to a group of people who try to fix the mistakes made by someone who previously made a decision, and they try to find the best solution to the problem.\n",
    "\n",
    "XGBoost stands for Extreme Gradient Boosting. It is a model that performs well because it can handle different types of data, relationships, distributions, and various hyperparameters that can be tuned. XGBoost can be used for regression, classification, and ranking problems.\n",
    "\n",
    "XGBoost minimizes a regularized objective function (L1 and L2) that combines a convex loss function (based on the difference between the target output and prediction) and a penalty term for the complexity of the model (i.e., the regression tree function). Its training is iterative, adding a new tree that predicts the residual or error of the previous tree, which is combined with the previous trees to generate the final prediction. It is called gradient boosting because it uses a derivative-based algorithm to minimize the loss when adding a new model.\n",
    "\n",
    "In general, XGBoost is a powerful and efficient implementation of gradient boosting that is widely used in machine learning for its high accuracy, speed, and flexibility in handling various types of data and tasks."
   ]
  },
  {
   "cell_type": "markdown",
   "id": "c8fdd7a9",
   "metadata": {},
   "source": [
    "## **Hyperparameter Tuning**\n",
    "Next, we will perform hyperparameter tuning on the XGBoost model with the hope of improving its performance."
   ]
  },
  {
   "cell_type": "code",
   "execution_count": 33,
   "id": "1f240ba9",
   "metadata": {
    "ExecuteTime": {
     "end_time": "2023-03-13T06:27:46.997102Z",
     "start_time": "2023-03-13T06:27:46.741125Z"
    }
   },
   "outputs": [],
   "source": [
    "from jcopml.tuning import grid_search_params as gsp"
   ]
  },
  {
   "cell_type": "code",
   "execution_count": 34,
   "id": "50ea748c",
   "metadata": {
    "ExecuteTime": {
     "end_time": "2023-03-13T06:27:47.021098Z",
     "start_time": "2023-03-13T06:27:47.005101Z"
    },
    "scrolled": true
   },
   "outputs": [
    {
     "data": {
      "text/plain": [
       "{'algo__max_depth': [3, 6, 10],\n",
       " 'algo__colsample_bytree': [0.4, 0.6, 0.8],\n",
       " 'algo__n_estimators': [100, 150, 200],\n",
       " 'algo__subsample': [0.4, 0.6, 0.8],\n",
       " 'algo__gamma': [1, 5, 10],\n",
       " 'algo__learning_rate': [0.01, 0.1, 1],\n",
       " 'algo__reg_alpha': [0.01, 0.1, 10],\n",
       " 'algo__reg_lambda': [0.01, 0.1, 10]}"
      ]
     },
     "execution_count": 34,
     "metadata": {},
     "output_type": "execute_result"
    }
   ],
   "source": [
    "gsp.xgb_params"
   ]
  },
  {
   "cell_type": "markdown",
   "id": "b5c1b59d",
   "metadata": {},
   "source": [
    "The output shows a dictionary of hyperparameters with their corresponding values that will be used in tuning the XGBoost model. Here are the descriptions of each hyperparameter:\n",
    "\n",
    "- max_depth: maximum depth of a tree. Increasing this value will make the model more complex and prone to overfitting.\n",
    "- colsample_bytree: subsample ratio of columns when constructing each tree. It specifies the fraction of columns to be randomly sampled for each tree.\n",
    "- n_estimators: number of trees to fit. Increasing this value will make the model more robust and less prone to overfitting.\n",
    "- subsample: subsample ratio of the training instances. It specifies the fraction of observations to be randomly sampled for each tree.\n",
    "- gamma: minimum loss reduction required to make a further partition on a leaf node of the tree. It specifies the regularization parameter for tree growth.\n",
    "- learning_rate: step size shrinkage used in each boosting iteration. It reduces the influence of each individual tree and makes the model more robust to noise.\n",
    "- reg_alpha: L1 regularization term on weights. It can be used to reduce the complexity of the model and prevent overfitting.\n",
    "- reg_lambda: L2 regularization term on weights. It can be used to reduce the complexity of the model and prevent overfitting."
   ]
  },
  {
   "cell_type": "code",
   "execution_count": 35,
   "id": "e1463167",
   "metadata": {
    "ExecuteTime": {
     "end_time": "2023-03-13T06:27:47.045096Z",
     "start_time": "2023-03-13T06:27:47.021098Z"
    }
   },
   "outputs": [],
   "source": [
    "from sklearn.model_selection import GridSearchCV"
   ]
  },
  {
   "cell_type": "markdown",
   "id": "6e5e7f58",
   "metadata": {},
   "source": [
    "GridSearch is a technique in machine learning used to find the best combination of hyperparameters for a model. Hyperparameters are parameters that are not automatically set by the machine learning algorithm, and must be set before the training process begins. Properly setting hyperparameters can improve the performance of the model and prevent overfitting.\n",
    "\n",
    "In GridSearch, we specify a list of hyperparameters we want to test and the combinations of their values. Then, GridSearch will try all these combinations and evaluate the model's performance using cross-validation techniques. GridSearch will provide the best hyperparameter combination that gives the best performance on the selected dataset.\n",
    "\n",
    "Using GridSearch, we can save time and effort required to manually determine the best hyperparameter combination. Additionally, this technique also helps prevent overfitting and improve the overall performance of the model."
   ]
  },
  {
   "cell_type": "code",
   "execution_count": 36,
   "id": "275a0009",
   "metadata": {
    "ExecuteTime": {
     "end_time": "2023-03-13T12:45:58.930742Z",
     "start_time": "2023-03-13T06:27:47.053097Z"
    }
   },
   "outputs": [
    {
     "name": "stdout",
     "output_type": "stream",
     "text": [
      "Fitting 5 folds for each of 6561 candidates, totalling 32805 fits\n"
     ]
    },
    {
     "data": {
      "text/plain": [
       "{'algo__colsample_bytree': 0.8,\n",
       " 'algo__gamma': 10,\n",
       " 'algo__learning_rate': 0.1,\n",
       " 'algo__max_depth': 10,\n",
       " 'algo__n_estimators': 150,\n",
       " 'algo__reg_alpha': 0.01,\n",
       " 'algo__reg_lambda': 10,\n",
       " 'algo__subsample': 0.6}"
      ]
     },
     "execution_count": 36,
     "metadata": {},
     "output_type": "execute_result"
    }
   ],
   "source": [
    "# define the pipeline\n",
    "estimator = Pipeline([\n",
    "    ('preprocessing', transformer),\n",
    "    ('algo', XGBRegressor())\n",
    "])\n",
    "# perform hyperparameter tuning using gridsearch\n",
    "gridsearch = GridSearchCV(\n",
    "    estimator=estimator,\n",
    "    param_grid=gsp.xgb_params,\n",
    "    cv=5,\n",
    "    scoring='neg_mean_absolute_percentage_error',\n",
    "    verbose=1,\n",
    "    n_jobs=-1\n",
    ")\n",
    "\n",
    "# fit the model\n",
    "gridsearch.fit(X_train, y_train)\n",
    "\n",
    "# print the best hyperparameters\n",
    "gridsearch.best_params_"
   ]
  },
  {
   "cell_type": "markdown",
   "id": "f275b506",
   "metadata": {},
   "source": [
    "\n",
    "\n",
    "\n",
    "The best `gridsearch.best_params_`\n",
    "\n",
    "{'algo__colsample_bytree': 0.8,\n",
    "\n",
    " 'algo__gamma': 10,\n",
    " \n",
    " 'algo__learning_rate': 0.1,\n",
    " \n",
    " 'algo__max_depth': 10,\n",
    " \n",
    " 'algo__n_estimators': 150,\n",
    " \n",
    " 'algo__reg_alpha': 0.01,\n",
    " \n",
    " 'algo__reg_lambda': 10,\n",
    " \n",
    " 'algo__subsample': 0.6}\n",
    " \n",
    " \n",
    " These hyperparameters would be used to train an XGBoost model on a given dataset. The performance of the model could then be evaluated using a suitable evaluation metric to determine how well it is able to make predictions on new, unseen data.\n"
   ]
  },
  {
   "cell_type": "code",
   "execution_count": 37,
   "id": "631d6a51",
   "metadata": {
    "ExecuteTime": {
     "end_time": "2023-03-13T12:45:59.110677Z",
     "start_time": "2023-03-13T12:45:58.953728Z"
    }
   },
   "outputs": [
    {
     "data": {
      "text/html": [
       "<div>\n",
       "<style scoped>\n",
       "    .dataframe tbody tr th:only-of-type {\n",
       "        vertical-align: middle;\n",
       "    }\n",
       "\n",
       "    .dataframe tbody tr th {\n",
       "        vertical-align: top;\n",
       "    }\n",
       "\n",
       "    .dataframe thead th {\n",
       "        text-align: right;\n",
       "    }\n",
       "</style>\n",
       "<table border=\"1\" class=\"dataframe\">\n",
       "  <thead>\n",
       "    <tr style=\"text-align: right;\">\n",
       "      <th></th>\n",
       "      <th>mean_fit_time</th>\n",
       "      <th>std_fit_time</th>\n",
       "      <th>mean_score_time</th>\n",
       "      <th>std_score_time</th>\n",
       "      <th>param_algo__colsample_bytree</th>\n",
       "      <th>param_algo__gamma</th>\n",
       "      <th>param_algo__learning_rate</th>\n",
       "      <th>param_algo__max_depth</th>\n",
       "      <th>param_algo__n_estimators</th>\n",
       "      <th>param_algo__reg_alpha</th>\n",
       "      <th>...</th>\n",
       "      <th>param_algo__subsample</th>\n",
       "      <th>params</th>\n",
       "      <th>split0_test_score</th>\n",
       "      <th>split1_test_score</th>\n",
       "      <th>split2_test_score</th>\n",
       "      <th>split3_test_score</th>\n",
       "      <th>split4_test_score</th>\n",
       "      <th>mean_test_score</th>\n",
       "      <th>std_test_score</th>\n",
       "      <th>rank_test_score</th>\n",
       "    </tr>\n",
       "  </thead>\n",
       "  <tbody>\n",
       "    <tr>\n",
       "      <th>6271</th>\n",
       "      <td>3.788007</td>\n",
       "      <td>0.142380</td>\n",
       "      <td>0.061126</td>\n",
       "      <td>0.013323</td>\n",
       "      <td>0.8</td>\n",
       "      <td>10</td>\n",
       "      <td>0.1</td>\n",
       "      <td>10</td>\n",
       "      <td>150</td>\n",
       "      <td>0.01</td>\n",
       "      <td>...</td>\n",
       "      <td>0.6</td>\n",
       "      <td>{'algo__colsample_bytree': 0.8, 'algo__gamma': 10, 'algo__learning_rate': 0.1, 'algo__max_depth': 10, 'algo__n_estimators': 150, 'algo__reg_alpha': 0.01, 'algo__reg_lambda': 10, 'algo__subsample': 0.6}</td>\n",
       "      <td>-2.896445e-01</td>\n",
       "      <td>-2.782456e-01</td>\n",
       "      <td>-2.518897e-01</td>\n",
       "      <td>-2.378118e-01</td>\n",
       "      <td>-2.538333e-01</td>\n",
       "      <td>-2.622850e-01</td>\n",
       "      <td>1.887706e-02</td>\n",
       "      <td>1</td>\n",
       "    </tr>\n",
       "    <tr>\n",
       "      <th>6280</th>\n",
       "      <td>4.371735</td>\n",
       "      <td>0.457592</td>\n",
       "      <td>0.078555</td>\n",
       "      <td>0.015580</td>\n",
       "      <td>0.8</td>\n",
       "      <td>10</td>\n",
       "      <td>0.1</td>\n",
       "      <td>10</td>\n",
       "      <td>150</td>\n",
       "      <td>0.1</td>\n",
       "      <td>...</td>\n",
       "      <td>0.6</td>\n",
       "      <td>{'algo__colsample_bytree': 0.8, 'algo__gamma': 10, 'algo__learning_rate': 0.1, 'algo__max_depth': 10, 'algo__n_estimators': 150, 'algo__reg_alpha': 0.1, 'algo__reg_lambda': 10, 'algo__subsample': 0.6}</td>\n",
       "      <td>-2.896445e-01</td>\n",
       "      <td>-2.782455e-01</td>\n",
       "      <td>-2.518897e-01</td>\n",
       "      <td>-2.378118e-01</td>\n",
       "      <td>-2.538333e-01</td>\n",
       "      <td>-2.622850e-01</td>\n",
       "      <td>1.887706e-02</td>\n",
       "      <td>2</td>\n",
       "    </tr>\n",
       "    <tr>\n",
       "      <th>5542</th>\n",
       "      <td>3.392074</td>\n",
       "      <td>0.268344</td>\n",
       "      <td>0.087494</td>\n",
       "      <td>0.028978</td>\n",
       "      <td>0.8</td>\n",
       "      <td>5</td>\n",
       "      <td>0.1</td>\n",
       "      <td>10</td>\n",
       "      <td>150</td>\n",
       "      <td>0.01</td>\n",
       "      <td>...</td>\n",
       "      <td>0.6</td>\n",
       "      <td>{'algo__colsample_bytree': 0.8, 'algo__gamma': 5, 'algo__learning_rate': 0.1, 'algo__max_depth': 10, 'algo__n_estimators': 150, 'algo__reg_alpha': 0.01, 'algo__reg_lambda': 10, 'algo__subsample': 0.6}</td>\n",
       "      <td>-2.896445e-01</td>\n",
       "      <td>-2.782456e-01</td>\n",
       "      <td>-2.518897e-01</td>\n",
       "      <td>-2.378118e-01</td>\n",
       "      <td>-2.538333e-01</td>\n",
       "      <td>-2.622850e-01</td>\n",
       "      <td>1.887707e-02</td>\n",
       "      <td>3</td>\n",
       "    </tr>\n",
       "    <tr>\n",
       "      <th>4813</th>\n",
       "      <td>2.931161</td>\n",
       "      <td>0.061434</td>\n",
       "      <td>0.053121</td>\n",
       "      <td>0.007654</td>\n",
       "      <td>0.8</td>\n",
       "      <td>1</td>\n",
       "      <td>0.1</td>\n",
       "      <td>10</td>\n",
       "      <td>150</td>\n",
       "      <td>0.01</td>\n",
       "      <td>...</td>\n",
       "      <td>0.6</td>\n",
       "      <td>{'algo__colsample_bytree': 0.8, 'algo__gamma': 1, 'algo__learning_rate': 0.1, 'algo__max_depth': 10, 'algo__n_estimators': 150, 'algo__reg_alpha': 0.01, 'algo__reg_lambda': 10, 'algo__subsample': 0.6}</td>\n",
       "      <td>-2.896445e-01</td>\n",
       "      <td>-2.782456e-01</td>\n",
       "      <td>-2.518897e-01</td>\n",
       "      <td>-2.378118e-01</td>\n",
       "      <td>-2.538333e-01</td>\n",
       "      <td>-2.622850e-01</td>\n",
       "      <td>1.887707e-02</td>\n",
       "      <td>3</td>\n",
       "    </tr>\n",
       "    <tr>\n",
       "      <th>5551</th>\n",
       "      <td>3.642776</td>\n",
       "      <td>0.137854</td>\n",
       "      <td>0.065620</td>\n",
       "      <td>0.011691</td>\n",
       "      <td>0.8</td>\n",
       "      <td>5</td>\n",
       "      <td>0.1</td>\n",
       "      <td>10</td>\n",
       "      <td>150</td>\n",
       "      <td>0.1</td>\n",
       "      <td>...</td>\n",
       "      <td>0.6</td>\n",
       "      <td>{'algo__colsample_bytree': 0.8, 'algo__gamma': 5, 'algo__learning_rate': 0.1, 'algo__max_depth': 10, 'algo__n_estimators': 150, 'algo__reg_alpha': 0.1, 'algo__reg_lambda': 10, 'algo__subsample': 0.6}</td>\n",
       "      <td>-2.896446e-01</td>\n",
       "      <td>-2.782455e-01</td>\n",
       "      <td>-2.518897e-01</td>\n",
       "      <td>-2.378118e-01</td>\n",
       "      <td>-2.538333e-01</td>\n",
       "      <td>-2.622850e-01</td>\n",
       "      <td>1.887707e-02</td>\n",
       "      <td>5</td>\n",
       "    </tr>\n",
       "    <tr>\n",
       "      <th>...</th>\n",
       "      <td>...</td>\n",
       "      <td>...</td>\n",
       "      <td>...</td>\n",
       "      <td>...</td>\n",
       "      <td>...</td>\n",
       "      <td>...</td>\n",
       "      <td>...</td>\n",
       "      <td>...</td>\n",
       "      <td>...</td>\n",
       "      <td>...</td>\n",
       "      <td>...</td>\n",
       "      <td>...</td>\n",
       "      <td>...</td>\n",
       "      <td>...</td>\n",
       "      <td>...</td>\n",
       "      <td>...</td>\n",
       "      <td>...</td>\n",
       "      <td>...</td>\n",
       "      <td>...</td>\n",
       "      <td>...</td>\n",
       "      <td>...</td>\n",
       "    </tr>\n",
       "    <tr>\n",
       "      <th>2889</th>\n",
       "      <td>3.492399</td>\n",
       "      <td>0.082372</td>\n",
       "      <td>0.076157</td>\n",
       "      <td>0.011747</td>\n",
       "      <td>0.6</td>\n",
       "      <td>1</td>\n",
       "      <td>1</td>\n",
       "      <td>10</td>\n",
       "      <td>200</td>\n",
       "      <td>0.01</td>\n",
       "      <td>...</td>\n",
       "      <td>0.4</td>\n",
       "      <td>{'algo__colsample_bytree': 0.6, 'algo__gamma': 1, 'algo__learning_rate': 1, 'algo__max_depth': 10, 'algo__n_estimators': 200, 'algo__reg_alpha': 0.01, 'algo__reg_lambda': 0.01, 'algo__subsample': 0.4}</td>\n",
       "      <td>-1.644769e+07</td>\n",
       "      <td>-3.306975e+06</td>\n",
       "      <td>-1.634558e+06</td>\n",
       "      <td>-1.787126e+06</td>\n",
       "      <td>-3.498030e+06</td>\n",
       "      <td>-5.334875e+06</td>\n",
       "      <td>5.608206e+06</td>\n",
       "      <td>6557</td>\n",
       "    </tr>\n",
       "    <tr>\n",
       "      <th>3618</th>\n",
       "      <td>3.071440</td>\n",
       "      <td>0.125844</td>\n",
       "      <td>0.051970</td>\n",
       "      <td>0.003222</td>\n",
       "      <td>0.6</td>\n",
       "      <td>5</td>\n",
       "      <td>1</td>\n",
       "      <td>10</td>\n",
       "      <td>200</td>\n",
       "      <td>0.01</td>\n",
       "      <td>...</td>\n",
       "      <td>0.4</td>\n",
       "      <td>{'algo__colsample_bytree': 0.6, 'algo__gamma': 5, 'algo__learning_rate': 1, 'algo__max_depth': 10, 'algo__n_estimators': 200, 'algo__reg_alpha': 0.01, 'algo__reg_lambda': 0.01, 'algo__subsample': 0.4}</td>\n",
       "      <td>-1.644769e+07</td>\n",
       "      <td>-3.306975e+06</td>\n",
       "      <td>-1.634558e+06</td>\n",
       "      <td>-1.787126e+06</td>\n",
       "      <td>-3.498030e+06</td>\n",
       "      <td>-5.334875e+06</td>\n",
       "      <td>5.608206e+06</td>\n",
       "      <td>6558</td>\n",
       "    </tr>\n",
       "    <tr>\n",
       "      <th>2898</th>\n",
       "      <td>3.681491</td>\n",
       "      <td>0.082450</td>\n",
       "      <td>0.064364</td>\n",
       "      <td>0.006825</td>\n",
       "      <td>0.6</td>\n",
       "      <td>1</td>\n",
       "      <td>1</td>\n",
       "      <td>10</td>\n",
       "      <td>200</td>\n",
       "      <td>0.1</td>\n",
       "      <td>...</td>\n",
       "      <td>0.4</td>\n",
       "      <td>{'algo__colsample_bytree': 0.6, 'algo__gamma': 1, 'algo__learning_rate': 1, 'algo__max_depth': 10, 'algo__n_estimators': 200, 'algo__reg_alpha': 0.1, 'algo__reg_lambda': 0.01, 'algo__subsample': 0.4}</td>\n",
       "      <td>-1.644765e+07</td>\n",
       "      <td>-3.306965e+06</td>\n",
       "      <td>-1.634554e+06</td>\n",
       "      <td>-1.787121e+06</td>\n",
       "      <td>-3.644064e+06</td>\n",
       "      <td>-5.364070e+06</td>\n",
       "      <td>5.598921e+06</td>\n",
       "      <td>6559</td>\n",
       "    </tr>\n",
       "    <tr>\n",
       "      <th>3627</th>\n",
       "      <td>2.776609</td>\n",
       "      <td>0.080838</td>\n",
       "      <td>0.049172</td>\n",
       "      <td>0.003486</td>\n",
       "      <td>0.6</td>\n",
       "      <td>5</td>\n",
       "      <td>1</td>\n",
       "      <td>10</td>\n",
       "      <td>200</td>\n",
       "      <td>0.1</td>\n",
       "      <td>...</td>\n",
       "      <td>0.4</td>\n",
       "      <td>{'algo__colsample_bytree': 0.6, 'algo__gamma': 5, 'algo__learning_rate': 1, 'algo__max_depth': 10, 'algo__n_estimators': 200, 'algo__reg_alpha': 0.1, 'algo__reg_lambda': 0.01, 'algo__subsample': 0.4}</td>\n",
       "      <td>-1.644765e+07</td>\n",
       "      <td>-3.306965e+06</td>\n",
       "      <td>-1.634554e+06</td>\n",
       "      <td>-1.787121e+06</td>\n",
       "      <td>-3.644064e+06</td>\n",
       "      <td>-5.364070e+06</td>\n",
       "      <td>5.598921e+06</td>\n",
       "      <td>6560</td>\n",
       "    </tr>\n",
       "    <tr>\n",
       "      <th>4356</th>\n",
       "      <td>3.752397</td>\n",
       "      <td>0.152119</td>\n",
       "      <td>0.061638</td>\n",
       "      <td>0.012871</td>\n",
       "      <td>0.6</td>\n",
       "      <td>10</td>\n",
       "      <td>1</td>\n",
       "      <td>10</td>\n",
       "      <td>200</td>\n",
       "      <td>0.1</td>\n",
       "      <td>...</td>\n",
       "      <td>0.4</td>\n",
       "      <td>{'algo__colsample_bytree': 0.6, 'algo__gamma': 10, 'algo__learning_rate': 1, 'algo__max_depth': 10, 'algo__n_estimators': 200, 'algo__reg_alpha': 0.1, 'algo__reg_lambda': 0.01, 'algo__subsample': 0.4}</td>\n",
       "      <td>-1.644765e+07</td>\n",
       "      <td>-3.306965e+06</td>\n",
       "      <td>-1.634554e+06</td>\n",
       "      <td>-1.787121e+06</td>\n",
       "      <td>-3.644064e+06</td>\n",
       "      <td>-5.364070e+06</td>\n",
       "      <td>5.598921e+06</td>\n",
       "      <td>6561</td>\n",
       "    </tr>\n",
       "  </tbody>\n",
       "</table>\n",
       "<p>6561 rows × 21 columns</p>\n",
       "</div>"
      ],
      "text/plain": [
       "      mean_fit_time  std_fit_time  mean_score_time  std_score_time  \\\n",
       "6271  3.788007       0.142380      0.061126         0.013323         \n",
       "6280  4.371735       0.457592      0.078555         0.015580         \n",
       "5542  3.392074       0.268344      0.087494         0.028978         \n",
       "4813  2.931161       0.061434      0.053121         0.007654         \n",
       "5551  3.642776       0.137854      0.065620         0.011691         \n",
       "...        ...            ...           ...              ...         \n",
       "2889  3.492399       0.082372      0.076157         0.011747         \n",
       "3618  3.071440       0.125844      0.051970         0.003222         \n",
       "2898  3.681491       0.082450      0.064364         0.006825         \n",
       "3627  2.776609       0.080838      0.049172         0.003486         \n",
       "4356  3.752397       0.152119      0.061638         0.012871         \n",
       "\n",
       "     param_algo__colsample_bytree param_algo__gamma param_algo__learning_rate  \\\n",
       "6271  0.8                          10                0.1                        \n",
       "6280  0.8                          10                0.1                        \n",
       "5542  0.8                          5                 0.1                        \n",
       "4813  0.8                          1                 0.1                        \n",
       "5551  0.8                          5                 0.1                        \n",
       "...   ...                         ..                 ...                        \n",
       "2889  0.6                          1                 1                          \n",
       "3618  0.6                          5                 1                          \n",
       "2898  0.6                          1                 1                          \n",
       "3627  0.6                          5                 1                          \n",
       "4356  0.6                          10                1                          \n",
       "\n",
       "     param_algo__max_depth param_algo__n_estimators param_algo__reg_alpha  \\\n",
       "6271  10                    150                      0.01                   \n",
       "6280  10                    150                      0.1                    \n",
       "5542  10                    150                      0.01                   \n",
       "4813  10                    150                      0.01                   \n",
       "5551  10                    150                      0.1                    \n",
       "...   ..                    ...                      ...                    \n",
       "2889  10                    200                      0.01                   \n",
       "3618  10                    200                      0.01                   \n",
       "2898  10                    200                      0.1                    \n",
       "3627  10                    200                      0.1                    \n",
       "4356  10                    200                      0.1                    \n",
       "\n",
       "      ... param_algo__subsample  \\\n",
       "6271  ...  0.6                    \n",
       "6280  ...  0.6                    \n",
       "5542  ...  0.6                    \n",
       "4813  ...  0.6                    \n",
       "5551  ...  0.6                    \n",
       "...   ...  ...                    \n",
       "2889  ...  0.4                    \n",
       "3618  ...  0.4                    \n",
       "2898  ...  0.4                    \n",
       "3627  ...  0.4                    \n",
       "4356  ...  0.4                    \n",
       "\n",
       "                                                                                                                                                                                                         params  \\\n",
       "6271  {'algo__colsample_bytree': 0.8, 'algo__gamma': 10, 'algo__learning_rate': 0.1, 'algo__max_depth': 10, 'algo__n_estimators': 150, 'algo__reg_alpha': 0.01, 'algo__reg_lambda': 10, 'algo__subsample': 0.6}   \n",
       "6280  {'algo__colsample_bytree': 0.8, 'algo__gamma': 10, 'algo__learning_rate': 0.1, 'algo__max_depth': 10, 'algo__n_estimators': 150, 'algo__reg_alpha': 0.1, 'algo__reg_lambda': 10, 'algo__subsample': 0.6}    \n",
       "5542  {'algo__colsample_bytree': 0.8, 'algo__gamma': 5, 'algo__learning_rate': 0.1, 'algo__max_depth': 10, 'algo__n_estimators': 150, 'algo__reg_alpha': 0.01, 'algo__reg_lambda': 10, 'algo__subsample': 0.6}    \n",
       "4813  {'algo__colsample_bytree': 0.8, 'algo__gamma': 1, 'algo__learning_rate': 0.1, 'algo__max_depth': 10, 'algo__n_estimators': 150, 'algo__reg_alpha': 0.01, 'algo__reg_lambda': 10, 'algo__subsample': 0.6}    \n",
       "5551  {'algo__colsample_bytree': 0.8, 'algo__gamma': 5, 'algo__learning_rate': 0.1, 'algo__max_depth': 10, 'algo__n_estimators': 150, 'algo__reg_alpha': 0.1, 'algo__reg_lambda': 10, 'algo__subsample': 0.6}     \n",
       "...                                                                                                                                                                                                       ...     \n",
       "2889  {'algo__colsample_bytree': 0.6, 'algo__gamma': 1, 'algo__learning_rate': 1, 'algo__max_depth': 10, 'algo__n_estimators': 200, 'algo__reg_alpha': 0.01, 'algo__reg_lambda': 0.01, 'algo__subsample': 0.4}    \n",
       "3618  {'algo__colsample_bytree': 0.6, 'algo__gamma': 5, 'algo__learning_rate': 1, 'algo__max_depth': 10, 'algo__n_estimators': 200, 'algo__reg_alpha': 0.01, 'algo__reg_lambda': 0.01, 'algo__subsample': 0.4}    \n",
       "2898  {'algo__colsample_bytree': 0.6, 'algo__gamma': 1, 'algo__learning_rate': 1, 'algo__max_depth': 10, 'algo__n_estimators': 200, 'algo__reg_alpha': 0.1, 'algo__reg_lambda': 0.01, 'algo__subsample': 0.4}     \n",
       "3627  {'algo__colsample_bytree': 0.6, 'algo__gamma': 5, 'algo__learning_rate': 1, 'algo__max_depth': 10, 'algo__n_estimators': 200, 'algo__reg_alpha': 0.1, 'algo__reg_lambda': 0.01, 'algo__subsample': 0.4}     \n",
       "4356  {'algo__colsample_bytree': 0.6, 'algo__gamma': 10, 'algo__learning_rate': 1, 'algo__max_depth': 10, 'algo__n_estimators': 200, 'algo__reg_alpha': 0.1, 'algo__reg_lambda': 0.01, 'algo__subsample': 0.4}    \n",
       "\n",
       "     split0_test_score  split1_test_score  split2_test_score  \\\n",
       "6271 -2.896445e-01     -2.782456e-01      -2.518897e-01        \n",
       "6280 -2.896445e-01     -2.782455e-01      -2.518897e-01        \n",
       "5542 -2.896445e-01     -2.782456e-01      -2.518897e-01        \n",
       "4813 -2.896445e-01     -2.782456e-01      -2.518897e-01        \n",
       "5551 -2.896446e-01     -2.782455e-01      -2.518897e-01        \n",
       "...            ...               ...                ...        \n",
       "2889 -1.644769e+07     -3.306975e+06      -1.634558e+06        \n",
       "3618 -1.644769e+07     -3.306975e+06      -1.634558e+06        \n",
       "2898 -1.644765e+07     -3.306965e+06      -1.634554e+06        \n",
       "3627 -1.644765e+07     -3.306965e+06      -1.634554e+06        \n",
       "4356 -1.644765e+07     -3.306965e+06      -1.634554e+06        \n",
       "\n",
       "      split3_test_score  split4_test_score  mean_test_score  std_test_score  \\\n",
       "6271 -2.378118e-01      -2.538333e-01      -2.622850e-01     1.887706e-02     \n",
       "6280 -2.378118e-01      -2.538333e-01      -2.622850e-01     1.887706e-02     \n",
       "5542 -2.378118e-01      -2.538333e-01      -2.622850e-01     1.887707e-02     \n",
       "4813 -2.378118e-01      -2.538333e-01      -2.622850e-01     1.887707e-02     \n",
       "5551 -2.378118e-01      -2.538333e-01      -2.622850e-01     1.887707e-02     \n",
       "...            ...                ...                ...              ...     \n",
       "2889 -1.787126e+06      -3.498030e+06      -5.334875e+06     5.608206e+06     \n",
       "3618 -1.787126e+06      -3.498030e+06      -5.334875e+06     5.608206e+06     \n",
       "2898 -1.787121e+06      -3.644064e+06      -5.364070e+06     5.598921e+06     \n",
       "3627 -1.787121e+06      -3.644064e+06      -5.364070e+06     5.598921e+06     \n",
       "4356 -1.787121e+06      -3.644064e+06      -5.364070e+06     5.598921e+06     \n",
       "\n",
       "      rank_test_score  \n",
       "6271  1                \n",
       "6280  2                \n",
       "5542  3                \n",
       "4813  3                \n",
       "5551  5                \n",
       "...  ..                \n",
       "2889  6557             \n",
       "3618  6558             \n",
       "2898  6559             \n",
       "3627  6560             \n",
       "4356  6561             \n",
       "\n",
       "[6561 rows x 21 columns]"
      ]
     },
     "execution_count": 37,
     "metadata": {},
     "output_type": "execute_result"
    }
   ],
   "source": [
    "# cv result\n",
    "pd.DataFrame(gridsearch.cv_results_).sort_values('rank_test_score')"
   ]
  },
  {
   "cell_type": "markdown",
   "id": "66e6e007",
   "metadata": {},
   "source": [
    "# Predict to Test Set with the Benchmark model"
   ]
  },
  {
   "cell_type": "code",
   "execution_count": 54,
   "id": "2d5f0d2a",
   "metadata": {
    "ExecuteTime": {
     "end_time": "2023-03-13T12:59:29.207707Z",
     "start_time": "2023-03-13T12:59:28.685962Z"
    }
   },
   "outputs": [
    {
     "data": {
      "text/plain": [
       "0.2752671261165064"
      ]
     },
     "execution_count": 54,
     "metadata": {},
     "output_type": "execute_result"
    }
   ],
   "source": [
    "model = XGBRegressor(random_state=2009)\n",
    "\n",
    "# pipeline\n",
    "pipe_model = Pipeline([\n",
    "    ('preprocessing', transformer),\n",
    "    ('modeling', model)\n",
    "])\n",
    "\n",
    "# fit\n",
    "pipe_model.fit(X_train, y_train)\n",
    "\n",
    "# predict before tuning\n",
    "y_pred_before = pipe_model.predict(X_test)\n",
    "\n",
    "# MAPE Before Tuning\n",
    "MAPE_before = mean_absolute_percentage_error(y_test, y_pred_before)\n",
    "MAPE_before"
   ]
  },
  {
   "cell_type": "markdown",
   "id": "e975838f",
   "metadata": {},
   "source": [
    "## **Tuning with the best Parameter**"
   ]
  },
  {
   "cell_type": "code",
   "execution_count": 39,
   "id": "dcdbe237",
   "metadata": {
    "ExecuteTime": {
     "end_time": "2023-03-13T12:46:00.551350Z",
     "start_time": "2023-03-13T12:46:00.519317Z"
    }
   },
   "outputs": [
    {
     "data": {
      "text/plain": [
       "{'algo__colsample_bytree': 0.8,\n",
       " 'algo__gamma': 10,\n",
       " 'algo__learning_rate': 0.1,\n",
       " 'algo__max_depth': 10,\n",
       " 'algo__n_estimators': 150,\n",
       " 'algo__reg_alpha': 0.01,\n",
       " 'algo__reg_lambda': 10,\n",
       " 'algo__subsample': 0.6}"
      ]
     },
     "execution_count": 39,
     "metadata": {},
     "output_type": "execute_result"
    }
   ],
   "source": [
    "gridsearch.best_params_"
   ]
  },
  {
   "cell_type": "code",
   "execution_count": 62,
   "id": "9189bc52",
   "metadata": {
    "ExecuteTime": {
     "end_time": "2023-03-13T13:53:31.695697Z",
     "start_time": "2023-03-13T13:53:30.326134Z"
    }
   },
   "outputs": [
    {
     "data": {
      "text/plain": [
       "Pipeline(steps=[('preprocessing',\n",
       "                 ColumnTransformer(remainder='passthrough',\n",
       "                                   transformers=[('scaler', RobustScaler(),\n",
       "                                                  ['Year', 'Mileage']),\n",
       "                                                 ('onehot',\n",
       "                                                  OneHotEncoder(drop='first'),\n",
       "                                                  ['Origin', 'Gear_Type',\n",
       "                                                   'Options']),\n",
       "                                                 ('binary', BinaryEncoder(),\n",
       "                                                  ['Type', 'Region',\n",
       "                                                   'Make'])])),\n",
       "                ('xgb',\n",
       "                 XGBRegressor(base_score=None, booster=None, callbacks=None,\n",
       "                              colsample_bylevel=None, co...\n",
       "                              feature_types=None, gamma=10, gpu_id=None,\n",
       "                              grow_policy=None, importance_type=None,\n",
       "                              interaction_constraints=None, learning_rate=0.1,\n",
       "                              max_bin=None, max_cat_threshold=None,\n",
       "                              max_cat_to_onehot=None, max_delta_step=None,\n",
       "                              max_depth=10, max_leaves=None,\n",
       "                              min_child_weight=None, missing=nan,\n",
       "                              monotone_constraints=None, n_estimators=150,\n",
       "                              n_jobs=None, num_parallel_tree=None,\n",
       "                              predictor=None, random_state=None, ...))])"
      ]
     },
     "execution_count": 62,
     "metadata": {},
     "output_type": "execute_result"
    }
   ],
   "source": [
    "# create a new instance of XGBRegressor with the best hyperparameters\n",
    "xgb = XGBRegressor(subsample=0.6, \n",
    "                   n_estimators=150,\n",
    "                   max_depth=10,\n",
    "                   learning_rate=0.1,\n",
    "                   gamma=10,\n",
    "                   colsample_bytree=0.8,\n",
    "                   reg_alpha=0.01,\n",
    "                   reg_lambda=10)\n",
    "\n",
    "# update the Pipeline to include the XGBRegressor model\n",
    "pipe_model_tuning = Pipeline([\n",
    "        ('preprocessing', transformer),\n",
    "        ('xgb', xgb)\n",
    "    ])\n",
    "\n",
    "# fit the model with the updated Pipeline\n",
    "pipe_model_tuning.fit(X_train, y_train)"
   ]
  },
  {
   "cell_type": "markdown",
   "id": "33ce1c4e",
   "metadata": {},
   "source": [
    "### **Result After tuning**\n"
   ]
  },
  {
   "cell_type": "code",
   "execution_count": 63,
   "id": "654055f8",
   "metadata": {
    "ExecuteTime": {
     "end_time": "2023-03-13T13:53:35.691230Z",
     "start_time": "2023-03-13T13:53:34.430136Z"
    }
   },
   "outputs": [
    {
     "data": {
      "text/plain": [
       "23.63680342966437"
      ]
     },
     "execution_count": 63,
     "metadata": {},
     "output_type": "execute_result"
    }
   ],
   "source": [
    "# define best model (after tuning)\n",
    "best_model = gridsearch.best_estimator_\n",
    "\n",
    "# fit\n",
    "best_model.fit(X_train, y_train)\n",
    "\n",
    "# predict\n",
    "y_pred_after = best_model.predict(X_test)\n",
    "\n",
    "mean_absolute_percentage_error(y_test, y_pred_after) * 100"
   ]
  },
  {
   "cell_type": "code",
   "execution_count": 66,
   "id": "00b9d711",
   "metadata": {
    "ExecuteTime": {
     "end_time": "2023-03-13T13:55:53.401956Z",
     "start_time": "2023-03-13T13:55:51.780741Z"
    }
   },
   "outputs": [
    {
     "data": {
      "text/plain": [
       "23.63680342966437"
      ]
     },
     "execution_count": 66,
     "metadata": {},
     "output_type": "execute_result"
    }
   ],
   "source": [
    "# define best model (after tuning)\n",
    "best_model = pipe_model_tuning\n",
    "\n",
    "# fit\n",
    "best_model.fit(X_train, y_train)\n",
    "\n",
    "# predict\n",
    "y_pred_after = best_model.predict(X_test)\n",
    "\n",
    "mean_absolute_percentage_error(y_test, y_pred_after) * 100"
   ]
  },
  {
   "cell_type": "code",
   "execution_count": 67,
   "id": "76ca378e",
   "metadata": {
    "ExecuteTime": {
     "end_time": "2023-03-13T13:57:44.479099Z",
     "start_time": "2023-03-13T13:57:43.743241Z"
    }
   },
   "outputs": [
    {
     "data": {
      "text/plain": [
       "0.2752671261165064"
      ]
     },
     "execution_count": 67,
     "metadata": {},
     "output_type": "execute_result"
    }
   ],
   "source": [
    "# algo\n",
    "model = XGBRegressor(random_state=1)\n",
    "\n",
    "# pipeline\n",
    "pipe_model = Pipeline([\n",
    "    ('preprocessing', transformer),\n",
    "    ('modeling', model)\n",
    "])\n",
    "\n",
    "# fit\n",
    "pipe_model.fit(X_train, y_train)\n",
    "\n",
    "# predict\n",
    "y_pred_before = pipe_model.predict(X_test)\n",
    "\n",
    "MAPE_before = mean_absolute_percentage_error(y_test, y_pred_before)\n",
    "MAPE_before"
   ]
  },
  {
   "cell_type": "markdown",
   "id": "3d06425a",
   "metadata": {},
   "source": [
    "# The Comparassion of both performances before and after hyperparameter tuning."
   ]
  },
  {
   "cell_type": "code",
   "execution_count": 64,
   "id": "f08d3181",
   "metadata": {
    "ExecuteTime": {
     "end_time": "2023-03-13T13:54:17.325970Z",
     "start_time": "2023-03-13T13:54:17.311416Z"
    }
   },
   "outputs": [
    {
     "name": "stdout",
     "output_type": "stream",
     "text": [
      "27.526712611650638 % MAPE before tuning\n",
      "23.63680342966437 % MAPE after tuning\n"
     ]
    }
   ],
   "source": [
    "# compare\n",
    "print(mean_absolute_percentage_error(y_test, y_pred_before) * 100,\"%\",'MAPE before tuning')\n",
    "print(mean_absolute_percentage_error(y_test, y_pred_after_best_tuning) * 100,'%' \" \" 'MAPE after tuning')"
   ]
  },
  {
   "cell_type": "markdown",
   "id": "02a3a218",
   "metadata": {},
   "source": [
    "This comparison is between the Mean Absolute Percentage Error (MAPE) of a regression model before and after tuning the hyperparameters of the model. The MAPE is a common evaluation metric used to measure the accuracy of regression models, which represents the percentage difference between the predicted and actual values of the target variable.\n",
    "\n",
    "The results show that after tuning the hyperparameters of the model, the MAPE decreased from 27.52% to 23.63%, indicating that the model's accuracy has improved 3.889%. This suggests that the hyperparameter tuning process was successful in improving the model's performance, and the updated model can make better predictions on new data."
   ]
  },
  {
   "cell_type": "code",
   "execution_count": 59,
   "id": "e670343a",
   "metadata": {
    "ExecuteTime": {
     "end_time": "2023-03-13T13:00:11.347154Z",
     "start_time": "2023-03-13T13:00:10.941359Z"
    }
   },
   "outputs": [
    {
     "data": {
      "image/png": "[encoded data removed]",
      "text/plain": [
       "<Figure size 1400x800 with 1 Axes>"
      ]
     },
     "metadata": {},
     "output_type": "display_data"
    }
   ],
   "source": [
    "plt.figure(figsize=(14, 8))\n",
    "plot = sns.scatterplot(x=y_test, y=y_pred_after_best_tuning).set(title='Actual vs. Prediction Price', \n",
    "                                               xlabel='Actual Price', \n",
    "                                               ylabel='Predicted Price');"
   ]
  },
  {
   "cell_type": "code",
   "execution_count": 60,
   "id": "ee28c22f",
   "metadata": {
    "ExecuteTime": {
     "end_time": "2023-03-13T13:00:16.660371Z",
     "start_time": "2023-03-13T13:00:16.282726Z"
    },
    "scrolled": false
   },
   "outputs": [
    {
     "data": {
      "text/plain": [
       "<matplotlib.lines.Line2D at 0x23f9fb1b1c0>"
      ]
     },
     "execution_count": 60,
     "metadata": {},
     "output_type": "execute_result"
    },
    {
     "data": {
      "image/png": "[encoded data removed]",
      "text/plain": [
       "<Figure size 1400x800 with 1 Axes>"
      ]
     },
     "metadata": {},
     "output_type": "display_data"
    }
   ],
   "source": [
    "plt.figure(figsize=(14, 8))\n",
    "residuals = y_test - y_pred_after_best_tuning\n",
    "plot = sns.scatterplot(x=y_test, y=residuals).set(title='Residual Plot', \n",
    "                                                 xlabel='Actual Price', \n",
    "                                                 ylabel='Residuals')\n",
    "plt.axhline(y=0, color='red')"
   ]
  },
  {
   "cell_type": "markdown",
   "id": "58800684",
   "metadata": {},
   "source": [
    "Based on the residual plot. The model is good enough to predict the car price from 5000 SAR to  200,000 SAR"
   ]
  },
  {
   "cell_type": "markdown",
   "id": "412d0832",
   "metadata": {},
   "source": [
    "# Conclusion and Recommendations \n",
    "## Conclusion \n",
    "\n",
    "- The best model to be implemented to this dataset is XGBoost Regressor with the hyperparameter tuning subsample=0.6, \n",
    "                   n_estimators=150,\n",
    "                   max_depth=10,\n",
    "                   learning_rate=0.1,\n",
    "                   gamma=10,\n",
    "                   colsample_bytree=0.8,\n",
    "                   reg_alpha=0.01,\n",
    "                   reg_lambda=10\n",
    "- According to feature correlation to Price. The most correlated feature is **Year**\n",
    "- A dataset with a column of prices containing zero values cannot be used for machine learning because we only want to predict data with real numbers. However, this has the effect of making the dataset very small (only 3818 rows of data).\n",
    "- This comparison is between the Mean Absolute Percentage Error (MAPE) of a regression model before and after tuning the hyperparameters of the model. The MAPE is a common evaluation metric used to measure the accuracy of regression models, which represents the percentage difference between the predicted and actual values of the target variable.\n",
    "\n",
    " - The results show that after tuning the hyperparameters of the model, the MAPE decreased from 27.52% to 23.63%, indicating that the model's accuracy has improved 3.889%. This suggests that the hyperparameter tuning process was successful in improving the model's performance, and the updated model can make better predictions on new data.\n",
    "\n",
    "## Recommendation \n",
    "Things that can be done to further develop the model to make it better are:\n",
    "\n",
    "- Adding more data rows because the available data after removing rows with zero values is only 3818 rows. This addition is recommended to avoid overfitting and memorizing data in the evaluation matrix.\n",
    "\n",
    "- Adding more columns of data (independent variables) related to the target column (dependent variable) because the number of available data columns is limited.\n"
   ]
  },
  {
   "cell_type": "markdown",
   "id": "2f38b267",
   "metadata": {},
   "source": [
    "# Save Model\n",
    " "
   ]
  },
  {
   "cell_type": "code",
   "execution_count": 68,
   "id": "76308baa",
   "metadata": {
    "ExecuteTime": {
     "end_time": "2023-03-13T14:27:40.798706Z",
     "start_time": "2023-03-13T14:27:39.485640Z"
    }
   },
   "outputs": [],
   "source": [
    "\n",
    "import pickle\n",
    "\n",
    "best_model = pipe_model_tuning\n",
    "best_model.fit(X_train, y_train)\n",
    "\n",
    "pickle.dump(best_model, open('Saudi_Arabia_Used_Cars_Model_xgb.sav', 'wb'))"
   ]
  },
  {
   "cell_type": "code",
   "execution_count": 70,
   "id": "2f67c8de",
   "metadata": {
    "ExecuteTime": {
     "end_time": "2023-03-13T14:28:37.185094Z",
     "start_time": "2023-03-13T14:28:37.128599Z"
    }
   },
   "outputs": [],
   "source": [
    "\n",
    "filename = 'Saudi_Arabia_Used_Cars_Model_xgb.sav'\n",
    "loaded_model = pickle.load(open(filename, 'rb'))"
   ]
  },
  {
   "cell_type": "markdown",
   "id": "ed1e997e",
   "metadata": {},
   "source": [
    "Hal-hal yang dapat dilakukan untuk mengembangkan model agar lebih baik lagi adalah:\n",
    "\n",
    "Menambahkan lebih banyak baris data karena data yang tersedia setelah menghapus baris dengan nilai nol hanya memiliki 3818 baris data. Penambahan ini disarankan untuk menghindari overfitting dan menghafal data pada evaluation matrix.\n",
    "\n",
    "Menambahkan lebih banyak kolom data (variabel independen) yang terkait dengan kolom target (variabel dependen) karena jumlah kolom data yang tersedia terbatas.\n",
    "\n",
    "\n",
    "\n"
   ]
  },
  {
   "cell_type": "code",
   "execution_count": null,
   "id": "62372952",
   "metadata": {},
   "outputs": [],
   "source": []
  }
 ],
 "metadata": {
  "colab": {
   "provenance": []
  },
  "hide_input": false,
  "kernelspec": {
   "display_name": "Python 3 (ipykernel)",
   "language": "python",
   "name": "python3"
  },
  "language_info": {
   "codemirror_mode": {
    "name": "ipython",
    "version": 3
   },
   "file_extension": ".py",
   "mimetype": "text/x-python",
   "name": "python",
   "nbconvert_exporter": "python",
   "pygments_lexer": "ipython3",
   "version": "3.9.13"
  },
  "toc": {
   "base_numbering": 1,
   "nav_menu": {},
   "number_sections": true,
   "sideBar": true,
   "skip_h1_title": false,
   "title_cell": "Table of Contents",
   "title_sidebar": "Contents",
   "toc_cell": false,
   "toc_position": {
    "height": "calc(100% - 180px)",
    "left": "10px",
    "top": "150px",
    "width": "165px"
   },
   "toc_section_display": true,
   "toc_window_display": true
  },
  "vscode": {
   "interpreter": {
    "hash": "a077222d77dfe082b8f1dd562ad70e458ac2ab76993a0b248ab0476e32e9e8dd"
   }
  }
 },
 "nbformat": 4,
 "nbformat_minor": 5
}
